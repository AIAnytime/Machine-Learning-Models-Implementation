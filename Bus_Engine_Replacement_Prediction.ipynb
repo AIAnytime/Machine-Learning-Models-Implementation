{
  "nbformat": 4,
  "nbformat_minor": 0,
  "metadata": {
    "colab": {
      "name": "Bus Engine Replacement Prediction.ipynb",
      "provenance": []
    },
    "kernelspec": {
      "name": "python3",
      "display_name": "Python 3"
    }
  },
  "cells": [
    {
      "cell_type": "code",
      "metadata": {
        "id": "bOGMkjGgSglp"
      },
      "source": [
        "import pandas as pd\n",
        "import numpy as np\n",
        "import matplotlib.pyplot as plt\n",
        "%matplotlib inline\n",
        "import seaborn as sns\n",
        "sns.set_style(style='darkgrid')\n",
        "\n",
        "from sklearn.pipeline import Pipeline\n",
        "\n",
        "from sklearn.model_selection import train_test_split\n",
        "\n",
        "from sklearn.preprocessing import StandardScaler\n",
        "\n",
        "from sklearn.linear_model import LogisticRegression\n",
        "\n",
        "from sklearn.metrics import classification_report"
      ],
      "execution_count": 45,
      "outputs": []
    },
    {
      "cell_type": "code",
      "metadata": {
        "id": "C8O2ueiSgwyI"
      },
      "source": [
        "data = pd.read_csv(\"drive/My Drive/Colab Notebooks/bus1234.csv\")"
      ],
      "execution_count": 46,
      "outputs": []
    },
    {
      "cell_type": "code",
      "metadata": {
        "colab": {
          "base_uri": "https://localhost:8080/",
          "height": 419
        },
        "id": "7MHibuBWg4tV",
        "outputId": "8f877485-6d54-4832-e218-f631c876a302"
      },
      "source": [
        "data"
      ],
      "execution_count": 47,
      "outputs": [
        {
          "output_type": "execute_result",
          "data": {
            "text/html": [
              "<div>\n",
              "<style scoped>\n",
              "    .dataframe tbody tr th:only-of-type {\n",
              "        vertical-align: middle;\n",
              "    }\n",
              "\n",
              "    .dataframe tbody tr th {\n",
              "        vertical-align: top;\n",
              "    }\n",
              "\n",
              "    .dataframe thead th {\n",
              "        text-align: right;\n",
              "    }\n",
              "</style>\n",
              "<table border=\"1\" class=\"dataframe\">\n",
              "  <thead>\n",
              "    <tr style=\"text-align: right;\">\n",
              "      <th></th>\n",
              "      <th>Unnamed: 0</th>\n",
              "      <th>id</th>\n",
              "      <th>group</th>\n",
              "      <th>year</th>\n",
              "      <th>month</th>\n",
              "      <th>replace</th>\n",
              "      <th>miles</th>\n",
              "    </tr>\n",
              "  </thead>\n",
              "  <tbody>\n",
              "    <tr>\n",
              "      <th>0</th>\n",
              "      <td>0</td>\n",
              "      <td>144.0</td>\n",
              "      <td>50.0</td>\n",
              "      <td>1981.0</td>\n",
              "      <td>5.0</td>\n",
              "      <td>0.0</td>\n",
              "      <td>2208.0</td>\n",
              "    </tr>\n",
              "    <tr>\n",
              "      <th>1</th>\n",
              "      <td>1</td>\n",
              "      <td>144.0</td>\n",
              "      <td>50.0</td>\n",
              "      <td>1981.0</td>\n",
              "      <td>6.0</td>\n",
              "      <td>0.0</td>\n",
              "      <td>5418.0</td>\n",
              "    </tr>\n",
              "    <tr>\n",
              "      <th>2</th>\n",
              "      <td>2</td>\n",
              "      <td>144.0</td>\n",
              "      <td>50.0</td>\n",
              "      <td>1981.0</td>\n",
              "      <td>7.0</td>\n",
              "      <td>0.0</td>\n",
              "      <td>8547.0</td>\n",
              "    </tr>\n",
              "    <tr>\n",
              "      <th>3</th>\n",
              "      <td>3</td>\n",
              "      <td>144.0</td>\n",
              "      <td>50.0</td>\n",
              "      <td>1981.0</td>\n",
              "      <td>8.0</td>\n",
              "      <td>0.0</td>\n",
              "      <td>11566.0</td>\n",
              "    </tr>\n",
              "    <tr>\n",
              "      <th>4</th>\n",
              "      <td>4</td>\n",
              "      <td>144.0</td>\n",
              "      <td>50.0</td>\n",
              "      <td>1981.0</td>\n",
              "      <td>9.0</td>\n",
              "      <td>0.0</td>\n",
              "      <td>15890.0</td>\n",
              "    </tr>\n",
              "    <tr>\n",
              "      <th>...</th>\n",
              "      <td>...</td>\n",
              "      <td>...</td>\n",
              "      <td>...</td>\n",
              "      <td>...</td>\n",
              "      <td>...</td>\n",
              "      <td>...</td>\n",
              "      <td>...</td>\n",
              "    </tr>\n",
              "    <tr>\n",
              "      <th>8255</th>\n",
              "      <td>8255</td>\n",
              "      <td>95.0</td>\n",
              "      <td>530875.0</td>\n",
              "      <td>1985.0</td>\n",
              "      <td>1.0</td>\n",
              "      <td>0.0</td>\n",
              "      <td>342004.0</td>\n",
              "    </tr>\n",
              "    <tr>\n",
              "      <th>8256</th>\n",
              "      <td>8256</td>\n",
              "      <td>95.0</td>\n",
              "      <td>530875.0</td>\n",
              "      <td>1985.0</td>\n",
              "      <td>2.0</td>\n",
              "      <td>0.0</td>\n",
              "      <td>343654.0</td>\n",
              "    </tr>\n",
              "    <tr>\n",
              "      <th>8257</th>\n",
              "      <td>8257</td>\n",
              "      <td>95.0</td>\n",
              "      <td>530875.0</td>\n",
              "      <td>1985.0</td>\n",
              "      <td>3.0</td>\n",
              "      <td>0.0</td>\n",
              "      <td>345631.0</td>\n",
              "    </tr>\n",
              "    <tr>\n",
              "      <th>8258</th>\n",
              "      <td>8258</td>\n",
              "      <td>95.0</td>\n",
              "      <td>530875.0</td>\n",
              "      <td>1985.0</td>\n",
              "      <td>4.0</td>\n",
              "      <td>0.0</td>\n",
              "      <td>347549.0</td>\n",
              "    </tr>\n",
              "    <tr>\n",
              "      <th>8259</th>\n",
              "      <td>8259</td>\n",
              "      <td>95.0</td>\n",
              "      <td>530875.0</td>\n",
              "      <td>1985.0</td>\n",
              "      <td>5.0</td>\n",
              "      <td>0.0</td>\n",
              "      <td>347549.0</td>\n",
              "    </tr>\n",
              "  </tbody>\n",
              "</table>\n",
              "<p>8260 rows × 7 columns</p>\n",
              "</div>"
            ],
            "text/plain": [
              "      Unnamed: 0     id     group    year  month  replace     miles\n",
              "0              0  144.0      50.0  1981.0    5.0      0.0    2208.0\n",
              "1              1  144.0      50.0  1981.0    6.0      0.0    5418.0\n",
              "2              2  144.0      50.0  1981.0    7.0      0.0    8547.0\n",
              "3              3  144.0      50.0  1981.0    8.0      0.0   11566.0\n",
              "4              4  144.0      50.0  1981.0    9.0      0.0   15890.0\n",
              "...          ...    ...       ...     ...    ...      ...       ...\n",
              "8255        8255   95.0  530875.0  1985.0    1.0      0.0  342004.0\n",
              "8256        8256   95.0  530875.0  1985.0    2.0      0.0  343654.0\n",
              "8257        8257   95.0  530875.0  1985.0    3.0      0.0  345631.0\n",
              "8258        8258   95.0  530875.0  1985.0    4.0      0.0  347549.0\n",
              "8259        8259   95.0  530875.0  1985.0    5.0      0.0  347549.0\n",
              "\n",
              "[8260 rows x 7 columns]"
            ]
          },
          "metadata": {
            "tags": []
          },
          "execution_count": 47
        }
      ]
    },
    {
      "cell_type": "code",
      "metadata": {
        "colab": {
          "base_uri": "https://localhost:8080/"
        },
        "id": "kWGfSW0ng5kN",
        "outputId": "42d95c85-9914-489f-cf0a-8002730592c7"
      },
      "source": [
        "data.info()"
      ],
      "execution_count": 48,
      "outputs": [
        {
          "output_type": "stream",
          "text": [
            "<class 'pandas.core.frame.DataFrame'>\n",
            "RangeIndex: 8260 entries, 0 to 8259\n",
            "Data columns (total 7 columns):\n",
            " #   Column      Non-Null Count  Dtype  \n",
            "---  ------      --------------  -----  \n",
            " 0   Unnamed: 0  8260 non-null   int64  \n",
            " 1   id          8260 non-null   float64\n",
            " 2   group       8260 non-null   float64\n",
            " 3   year        8260 non-null   float64\n",
            " 4   month       8260 non-null   float64\n",
            " 5   replace     8260 non-null   float64\n",
            " 6   miles       8260 non-null   float64\n",
            "dtypes: float64(6), int64(1)\n",
            "memory usage: 451.8 KB\n"
          ],
          "name": "stdout"
        }
      ]
    },
    {
      "cell_type": "code",
      "metadata": {
        "colab": {
          "base_uri": "https://localhost:8080/",
          "height": 621
        },
        "id": "6PQQ71SKhtwK",
        "outputId": "a9ca98f3-9b75-462c-aad5-bde247171103"
      },
      "source": [
        "plt.figure(figsize=(16,10))\n",
        "sns.violinplot(x=data['group'], y=data['miles'], hue=data['replace'], palette='husl')\n",
        "plt.title(\"Miles Per Group\")\n",
        "plt.show()"
      ],
      "execution_count": 50,
      "outputs": [
        {
          "output_type": "display_data",
          "data": {
            "image/png": "[encoded data removed]",
            "text/plain": [
              "<Figure size 1152x720 with 1 Axes>"
            ]
          },
          "metadata": {
            "tags": []
          }
        }
      ]
    },
    {
      "cell_type": "code",
      "metadata": {
        "colab": {
          "base_uri": "https://localhost:8080/",
          "height": 421
        },
        "id": "8Tz0l40Gj6IE",
        "outputId": "7ce6dcda-d978-4ee9-d0ee-1f26e6c1c923"
      },
      "source": [
        "data.groupby(by='year').sum()"
      ],
      "execution_count": 52,
      "outputs": [
        {
          "output_type": "execute_result",
          "data": {
            "text/html": [
              "<div>\n",
              "<style scoped>\n",
              "    .dataframe tbody tr th:only-of-type {\n",
              "        vertical-align: middle;\n",
              "    }\n",
              "\n",
              "    .dataframe tbody tr th {\n",
              "        vertical-align: top;\n",
              "    }\n",
              "\n",
              "    .dataframe thead th {\n",
              "        text-align: right;\n",
              "    }\n",
              "</style>\n",
              "<table border=\"1\" class=\"dataframe\">\n",
              "  <thead>\n",
              "    <tr style=\"text-align: right;\">\n",
              "      <th></th>\n",
              "      <th>Unnamed: 0</th>\n",
              "      <th>id</th>\n",
              "      <th>group</th>\n",
              "      <th>month</th>\n",
              "      <th>replace</th>\n",
              "      <th>miles</th>\n",
              "    </tr>\n",
              "    <tr>\n",
              "      <th>year</th>\n",
              "      <th></th>\n",
              "      <th></th>\n",
              "      <th></th>\n",
              "      <th></th>\n",
              "      <th></th>\n",
              "      <th></th>\n",
              "    </tr>\n",
              "  </thead>\n",
              "  <tbody>\n",
              "    <tr>\n",
              "      <th>1975.0</th>\n",
              "      <td>893698</td>\n",
              "      <td>11396.0</td>\n",
              "      <td>78569500.0</td>\n",
              "      <td>1554.0</td>\n",
              "      <td>0.0</td>\n",
              "      <td>956433.0</td>\n",
              "    </tr>\n",
              "    <tr>\n",
              "      <th>1976.0</th>\n",
              "      <td>2684646</td>\n",
              "      <td>34188.0</td>\n",
              "      <td>235708500.0</td>\n",
              "      <td>2886.0</td>\n",
              "      <td>0.0</td>\n",
              "      <td>16563156.0</td>\n",
              "    </tr>\n",
              "    <tr>\n",
              "      <th>1977.0</th>\n",
              "      <td>2689974</td>\n",
              "      <td>34188.0</td>\n",
              "      <td>235708500.0</td>\n",
              "      <td>2886.0</td>\n",
              "      <td>1.0</td>\n",
              "      <td>38249247.0</td>\n",
              "    </tr>\n",
              "    <tr>\n",
              "      <th>1978.0</th>\n",
              "      <td>2695302</td>\n",
              "      <td>34188.0</td>\n",
              "      <td>235708500.0</td>\n",
              "      <td>2886.0</td>\n",
              "      <td>2.0</td>\n",
              "      <td>57969609.0</td>\n",
              "    </tr>\n",
              "    <tr>\n",
              "      <th>1979.0</th>\n",
              "      <td>3142950</td>\n",
              "      <td>62868.0</td>\n",
              "      <td>235757220.0</td>\n",
              "      <td>5286.0</td>\n",
              "      <td>4.0</td>\n",
              "      <td>78481002.0</td>\n",
              "    </tr>\n",
              "    <tr>\n",
              "      <th>1980.0</th>\n",
              "      <td>3772422</td>\n",
              "      <td>103020.0</td>\n",
              "      <td>235825428.0</td>\n",
              "      <td>6630.0</td>\n",
              "      <td>4.0</td>\n",
              "      <td>109203289.0</td>\n",
              "    </tr>\n",
              "    <tr>\n",
              "      <th>1981.0</th>\n",
              "      <td>3787126</td>\n",
              "      <td>107676.0</td>\n",
              "      <td>235827028.0</td>\n",
              "      <td>6902.0</td>\n",
              "      <td>6.0</td>\n",
              "      <td>135017661.0</td>\n",
              "    </tr>\n",
              "    <tr>\n",
              "      <th>1982.0</th>\n",
              "      <td>3801078</td>\n",
              "      <td>110004.0</td>\n",
              "      <td>235827828.0</td>\n",
              "      <td>6942.0</td>\n",
              "      <td>13.0</td>\n",
              "      <td>146054939.0</td>\n",
              "    </tr>\n",
              "    <tr>\n",
              "      <th>1983.0</th>\n",
              "      <td>4262034</td>\n",
              "      <td>128604.0</td>\n",
              "      <td>235932228.0</td>\n",
              "      <td>7962.0</td>\n",
              "      <td>9.0</td>\n",
              "      <td>154940380.0</td>\n",
              "    </tr>\n",
              "    <tr>\n",
              "      <th>1984.0</th>\n",
              "      <td>4500720</td>\n",
              "      <td>137904.0</td>\n",
              "      <td>235984428.0</td>\n",
              "      <td>8112.0</td>\n",
              "      <td>15.0</td>\n",
              "      <td>169668662.0</td>\n",
              "    </tr>\n",
              "    <tr>\n",
              "      <th>1985.0</th>\n",
              "      <td>1879720</td>\n",
              "      <td>57460.0</td>\n",
              "      <td>98326845.0</td>\n",
              "      <td>1560.0</td>\n",
              "      <td>6.0</td>\n",
              "      <td>69518029.0</td>\n",
              "    </tr>\n",
              "  </tbody>\n",
              "</table>\n",
              "</div>"
            ],
            "text/plain": [
              "        Unnamed: 0        id        group   month  replace        miles\n",
              "year                                                                   \n",
              "1975.0      893698   11396.0   78569500.0  1554.0      0.0     956433.0\n",
              "1976.0     2684646   34188.0  235708500.0  2886.0      0.0   16563156.0\n",
              "1977.0     2689974   34188.0  235708500.0  2886.0      1.0   38249247.0\n",
              "1978.0     2695302   34188.0  235708500.0  2886.0      2.0   57969609.0\n",
              "1979.0     3142950   62868.0  235757220.0  5286.0      4.0   78481002.0\n",
              "1980.0     3772422  103020.0  235825428.0  6630.0      4.0  109203289.0\n",
              "1981.0     3787126  107676.0  235827028.0  6902.0      6.0  135017661.0\n",
              "1982.0     3801078  110004.0  235827828.0  6942.0     13.0  146054939.0\n",
              "1983.0     4262034  128604.0  235932228.0  7962.0      9.0  154940380.0\n",
              "1984.0     4500720  137904.0  235984428.0  8112.0     15.0  169668662.0\n",
              "1985.0     1879720   57460.0   98326845.0  1560.0      6.0   69518029.0"
            ]
          },
          "metadata": {
            "tags": []
          },
          "execution_count": 52
        }
      ]
    },
    {
      "cell_type": "code",
      "metadata": {
        "colab": {
          "base_uri": "https://localhost:8080/",
          "height": 621
        },
        "id": "lHUmLPROoE5V",
        "outputId": "5eeb8450-7699-4c09-fec8-abf5e4bf6a4d"
      },
      "source": [
        "plt.figure(figsize=(16, 10))\n",
        "sns.lineplot(data=data.groupby(by='year').sum()['replace'])\n",
        "plt.title(\"Replacement of Bus engine over the years\")\n",
        "plt.show()"
      ],
      "execution_count": 54,
      "outputs": [
        {
          "output_type": "display_data",
          "data": {
            "image/png": "[encoded data removed]",
            "text/plain": [
              "<Figure size 1152x720 with 1 Axes>"
            ]
          },
          "metadata": {
            "tags": []
          }
        }
      ]
    },
    {
      "cell_type": "code",
      "metadata": {
        "colab": {
          "base_uri": "https://localhost:8080/",
          "height": 621
        },
        "id": "6MtDqhqGoYuy",
        "outputId": "cfa30d25-4165-4dc5-e1b2-489bd878367f"
      },
      "source": [
        "plt.figure(figsize=(16, 10))\n",
        "sns.lineplot(data = data.groupby(by='month').sum()['replace'])\n",
        "plt.title(\"Replacement of Bus engine over the month\")\n",
        "plt.show()"
      ],
      "execution_count": 55,
      "outputs": [
        {
          "output_type": "display_data",
          "data": {
            "image/png": "[encoded data removed]",
            "text/plain": [
              "<Figure size 1152x720 with 1 Axes>"
            ]
          },
          "metadata": {
            "tags": []
          }
        }
      ]
    },
    {
      "cell_type": "code",
      "metadata": {
        "id": "NGX1BTu3o2JN"
      },
      "source": [
        "def preprocess_data(df):\n",
        "  df = df.copy()\n",
        "  #drop Unnamed: 0\n",
        "  df = df.drop([\"Unnamed: 0\"], axis = 1)\n",
        "  #X and y and train_test_split\n",
        "  X = df.drop('replace', axis = 1)\n",
        "  y = df['replace']\n",
        "\n",
        "  X_train,X_test, y_train, y_test = train_test_split(X, y, train_size = 0.7, random_state=5, shuffle=True)\n",
        "\n",
        "\n",
        "  return X_train, X_test, y_train, y_test"
      ],
      "execution_count": 71,
      "outputs": []
    },
    {
      "cell_type": "code",
      "metadata": {
        "id": "R_Yz22ZSy252"
      },
      "source": [
        "X_train, X_test, y_train, y_test = preprocess_data(data)"
      ],
      "execution_count": 72,
      "outputs": []
    },
    {
      "cell_type": "code",
      "metadata": {
        "colab": {
          "base_uri": "https://localhost:8080/",
          "height": 419
        },
        "id": "jMDAtYI_y7Hl",
        "outputId": "e488e922-e201-4c1d-e50d-137015c81232"
      },
      "source": [
        "X_train"
      ],
      "execution_count": 73,
      "outputs": [
        {
          "output_type": "execute_result",
          "data": {
            "text/html": [
              "<div>\n",
              "<style scoped>\n",
              "    .dataframe tbody tr th:only-of-type {\n",
              "        vertical-align: middle;\n",
              "    }\n",
              "\n",
              "    .dataframe tbody tr th {\n",
              "        vertical-align: top;\n",
              "    }\n",
              "\n",
              "    .dataframe thead th {\n",
              "        text-align: right;\n",
              "    }\n",
              "</style>\n",
              "<table border=\"1\" class=\"dataframe\">\n",
              "  <thead>\n",
              "    <tr style=\"text-align: right;\">\n",
              "      <th></th>\n",
              "      <th>id</th>\n",
              "      <th>group</th>\n",
              "      <th>year</th>\n",
              "      <th>month</th>\n",
              "      <th>miles</th>\n",
              "    </tr>\n",
              "  </thead>\n",
              "  <tbody>\n",
              "    <tr>\n",
              "      <th>6776</th>\n",
              "      <td>83.0</td>\n",
              "      <td>530875.0</td>\n",
              "      <td>1978.0</td>\n",
              "      <td>10.0</td>\n",
              "      <td>125373.0</td>\n",
              "    </tr>\n",
              "    <tr>\n",
              "      <th>7029</th>\n",
              "      <td>85.0</td>\n",
              "      <td>530875.0</td>\n",
              "      <td>1980.0</td>\n",
              "      <td>5.0</td>\n",
              "      <td>210225.0</td>\n",
              "    </tr>\n",
              "    <tr>\n",
              "      <th>805</th>\n",
              "      <td>104.0</td>\n",
              "      <td>203.0</td>\n",
              "      <td>1983.0</td>\n",
              "      <td>9.0</td>\n",
              "      <td>196098.0</td>\n",
              "    </tr>\n",
              "    <tr>\n",
              "      <th>5366</th>\n",
              "      <td>71.0</td>\n",
              "      <td>530875.0</td>\n",
              "      <td>1978.0</td>\n",
              "      <td>4.0</td>\n",
              "      <td>137754.0</td>\n",
              "    </tr>\n",
              "    <tr>\n",
              "      <th>4000</th>\n",
              "      <td>59.0</td>\n",
              "      <td>530875.0</td>\n",
              "      <td>1981.0</td>\n",
              "      <td>6.0</td>\n",
              "      <td>65991.0</td>\n",
              "    </tr>\n",
              "    <tr>\n",
              "      <th>...</th>\n",
              "      <td>...</td>\n",
              "      <td>...</td>\n",
              "      <td>...</td>\n",
              "      <td>...</td>\n",
              "      <td>...</td>\n",
              "    </tr>\n",
              "    <tr>\n",
              "      <th>7286</th>\n",
              "      <td>87.0</td>\n",
              "      <td>530875.0</td>\n",
              "      <td>1982.0</td>\n",
              "      <td>4.0</td>\n",
              "      <td>14142.0</td>\n",
              "    </tr>\n",
              "    <tr>\n",
              "      <th>3046</th>\n",
              "      <td>136.0</td>\n",
              "      <td>203.0</td>\n",
              "      <td>1983.0</td>\n",
              "      <td>10.0</td>\n",
              "      <td>192882.0</td>\n",
              "    </tr>\n",
              "    <tr>\n",
              "      <th>4079</th>\n",
              "      <td>60.0</td>\n",
              "      <td>530875.0</td>\n",
              "      <td>1978.0</td>\n",
              "      <td>4.0</td>\n",
              "      <td>134470.0</td>\n",
              "    </tr>\n",
              "    <tr>\n",
              "      <th>2254</th>\n",
              "      <td>125.0</td>\n",
              "      <td>203.0</td>\n",
              "      <td>1981.0</td>\n",
              "      <td>12.0</td>\n",
              "      <td>122241.0</td>\n",
              "    </tr>\n",
              "    <tr>\n",
              "      <th>2915</th>\n",
              "      <td>134.0</td>\n",
              "      <td>203.0</td>\n",
              "      <td>1984.0</td>\n",
              "      <td>7.0</td>\n",
              "      <td>81037.0</td>\n",
              "    </tr>\n",
              "  </tbody>\n",
              "</table>\n",
              "<p>5782 rows × 5 columns</p>\n",
              "</div>"
            ],
            "text/plain": [
              "         id     group    year  month     miles\n",
              "6776   83.0  530875.0  1978.0   10.0  125373.0\n",
              "7029   85.0  530875.0  1980.0    5.0  210225.0\n",
              "805   104.0     203.0  1983.0    9.0  196098.0\n",
              "5366   71.0  530875.0  1978.0    4.0  137754.0\n",
              "4000   59.0  530875.0  1981.0    6.0   65991.0\n",
              "...     ...       ...     ...    ...       ...\n",
              "7286   87.0  530875.0  1982.0    4.0   14142.0\n",
              "3046  136.0     203.0  1983.0   10.0  192882.0\n",
              "4079   60.0  530875.0  1978.0    4.0  134470.0\n",
              "2254  125.0     203.0  1981.0   12.0  122241.0\n",
              "2915  134.0     203.0  1984.0    7.0   81037.0\n",
              "\n",
              "[5782 rows x 5 columns]"
            ]
          },
          "metadata": {
            "tags": []
          },
          "execution_count": 73
        }
      ]
    },
    {
      "cell_type": "code",
      "metadata": {
        "colab": {
          "base_uri": "https://localhost:8080/"
        },
        "id": "jtWnGjLSy74w",
        "outputId": "915a6754-1252-4eab-aa3d-5583d1103524"
      },
      "source": [
        "y_train.value_counts()"
      ],
      "execution_count": 74,
      "outputs": [
        {
          "output_type": "execute_result",
          "data": {
            "text/plain": [
              "0.0    5740\n",
              "1.0      42\n",
              "Name: replace, dtype: int64"
            ]
          },
          "metadata": {
            "tags": []
          },
          "execution_count": 74
        }
      ]
    },
    {
      "cell_type": "code",
      "metadata": {
        "id": "LQg5ENJf0cTv"
      },
      "source": [
        "nominal_transformer = Pipeline(steps=[('onehot', OneHotEncoder(sparse=False))])\n",
        "preprocessor = ColumnTransformer(transformers=[('nominal', nominal_transformer, ['id', 'group'])], remainder='passthrough')\n",
        "model = Pipeline(steps=[('preprocessor', preprocessor), ('scaler', StandardScaler()), ('classifier', LogisticRegression(\n",
        "    class_weight={\n",
        "        0:1.0,\n",
        "        1:5.0\n",
        "    }))])"
      ],
      "execution_count": 86,
      "outputs": []
    },
    {
      "cell_type": "markdown",
      "metadata": {
        "id": "2WA7JHVE5H4P"
      },
      "source": [
        "#### We are using class_weight in the Logistic Regression because this is a problem of class imbalance. we only have 18 samples of replecement in the test set so we are telling the model to focus 5 times more on the replacement class(1). "
      ]
    },
    {
      "cell_type": "code",
      "metadata": {
        "colab": {
          "base_uri": "https://localhost:8080/"
        },
        "id": "kAxRN-cJ2LxC",
        "outputId": "d1428984-fa65-4b9e-b7f5-abbc44ebae27"
      },
      "source": [
        "model.fit(X_train, y_train)"
      ],
      "execution_count": 87,
      "outputs": [
        {
          "output_type": "execute_result",
          "data": {
            "text/plain": [
              "Pipeline(memory=None,\n",
              "         steps=[('preprocessor',\n",
              "                 ColumnTransformer(n_jobs=None, remainder='passthrough',\n",
              "                                   sparse_threshold=0.3,\n",
              "                                   transformer_weights=None,\n",
              "                                   transformers=[('nominal',\n",
              "                                                  Pipeline(memory=None,\n",
              "                                                           steps=[('onehot',\n",
              "                                                                   OneHotEncoder(categories='auto',\n",
              "                                                                                 drop=None,\n",
              "                                                                                 dtype=<class 'numpy.float64'>,\n",
              "                                                                                 handle_unknown='error',\n",
              "                                                                                 sparse=False))],\n",
              "                                                           verbose=False),\n",
              "                                                  ['id', 'group'])],\n",
              "                                   v...=False)),\n",
              "                ('scaler',\n",
              "                 StandardScaler(copy=True, with_mean=True, with_std=True)),\n",
              "                ('classifier',\n",
              "                 LogisticRegression(C=1.0, class_weight={0: 1.0, 1: 5.0},\n",
              "                                    dual=False, fit_intercept=True,\n",
              "                                    intercept_scaling=1, l1_ratio=None,\n",
              "                                    max_iter=100, multi_class='auto',\n",
              "                                    n_jobs=None, penalty='l2',\n",
              "                                    random_state=None, solver='lbfgs',\n",
              "                                    tol=0.0001, verbose=0, warm_start=False))],\n",
              "         verbose=False)"
            ]
          },
          "metadata": {
            "tags": []
          },
          "execution_count": 87
        }
      ]
    },
    {
      "cell_type": "code",
      "metadata": {
        "colab": {
          "base_uri": "https://localhost:8080/"
        },
        "id": "Uhy35F7624c7",
        "outputId": "d84ac62e-45e7-447e-8332-a7cc69810c8a"
      },
      "source": [
        "model.score(X_test, y_test)"
      ],
      "execution_count": 88,
      "outputs": [
        {
          "output_type": "execute_result",
          "data": {
            "text/plain": [
              "0.9838579499596449"
            ]
          },
          "metadata": {
            "tags": []
          },
          "execution_count": 88
        }
      ]
    },
    {
      "cell_type": "code",
      "metadata": {
        "colab": {
          "base_uri": "https://localhost:8080/"
        },
        "id": "JV2XhtEn3EE7",
        "outputId": "592bae47-38f5-4f7d-f2be-9e087a743042"
      },
      "source": [
        "print(\"Test accuracy is {:.2f}%\".format(model.score(X_test, y_test)*100))"
      ],
      "execution_count": 89,
      "outputs": [
        {
          "output_type": "stream",
          "text": [
            "Test accuracy is 98.39%\n"
          ],
          "name": "stdout"
        }
      ]
    },
    {
      "cell_type": "code",
      "metadata": {
        "id": "D5xLaVtt3bCZ"
      },
      "source": [
        "y_pred = model.predict(X_test)"
      ],
      "execution_count": 90,
      "outputs": []
    },
    {
      "cell_type": "code",
      "metadata": {
        "colab": {
          "base_uri": "https://localhost:8080/"
        },
        "id": "sK4B3HeX3lCb",
        "outputId": "a4e8d444-1d0b-4bdc-b145-4cf52d105397"
      },
      "source": [
        "print(y_pred)"
      ],
      "execution_count": 91,
      "outputs": [
        {
          "output_type": "stream",
          "text": [
            "[0. 0. 0. ... 0. 0. 0.]\n"
          ],
          "name": "stdout"
        }
      ]
    },
    {
      "cell_type": "code",
      "metadata": {
        "colab": {
          "base_uri": "https://localhost:8080/"
        },
        "id": "qsK1cKT03mT5",
        "outputId": "5aeb2446-b009-4baf-a2ee-d00cfcec40b6"
      },
      "source": [
        "clr = classification_report(y_test, y_pred, target_names=['No Replacements', 'Replacements'])\n",
        "print(clr)"
      ],
      "execution_count": 92,
      "outputs": [
        {
          "output_type": "stream",
          "text": [
            "                 precision    recall  f1-score   support\n",
            "\n",
            "No Replacements       0.99      0.99      0.99      2460\n",
            "   Replacements       0.04      0.06      0.05        18\n",
            "\n",
            "       accuracy                           0.98      2478\n",
            "      macro avg       0.52      0.52      0.52      2478\n",
            "   weighted avg       0.99      0.98      0.99      2478\n",
            "\n"
          ],
          "name": "stdout"
        }
      ]
    },
    {
      "cell_type": "code",
      "metadata": {
        "id": "Efyo6TJz3vdF"
      },
      "source": [
        ""
      ],
      "execution_count": null,
      "outputs": []
    }
  ]
}