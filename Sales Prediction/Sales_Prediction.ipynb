{
  "nbformat": 4,
  "nbformat_minor": 0,
  "metadata": {
    "colab": {
      "name": "Sales Prediction.ipynb",
      "provenance": []
    },
    "kernelspec": {
      "name": "python3",
      "display_name": "Python 3"
    },
    "language_info": {
      "name": "python"
    }
  },
  "cells": [
    {
      "cell_type": "markdown",
      "metadata": {
        "id": "Gtl10g2KOt5N"
      },
      "source": [
        "## Data and Task\n",
        "\n",
        "### Data Link: https://www.kaggle.com/flenderson/sales-analysis\n",
        "\n",
        "- Historical Sales and Active Inventory.\n",
        "- Records of sold and unsold products and their characteristics.\n",
        "\n",
        "### Task: **To predict if a product has been sold in the last 6 months based on the historical features of the products**"
      ]
    },
    {
      "cell_type": "markdown",
      "metadata": {
        "id": "PrArVGM9PvIu"
      },
      "source": [
        "## Imports"
      ]
    },
    {
      "cell_type": "code",
      "metadata": {
        "colab": {
          "base_uri": "https://localhost:8080/",
          "height": 343
        },
        "id": "B0olnbX9f8gE",
        "outputId": "89956c92-592e-4607-82b4-fa2c4e154bd6"
      },
      "source": [
        "!pip3 install -U scikit-learn"
      ],
      "execution_count": 56,
      "outputs": [
        {
          "output_type": "stream",
          "text": [
            "Collecting scikit-learn\n",
            "\u001b[?25l  Downloading https://files.pythonhosted.org/packages/f3/74/eb899f41d55f957e2591cde5528e75871f817d9fb46d4732423ecaca736d/scikit_learn-0.24.1-cp37-cp37m-manylinux2010_x86_64.whl (22.3MB)\n",
            "\u001b[K     |████████████████████████████████| 22.3MB 62.6MB/s \n",
            "\u001b[?25hRequirement already satisfied, skipping upgrade: joblib>=0.11 in /usr/local/lib/python3.7/dist-packages (from scikit-learn) (1.0.1)\n",
            "Collecting threadpoolctl>=2.0.0\n",
            "  Downloading https://files.pythonhosted.org/packages/f7/12/ec3f2e203afa394a149911729357aa48affc59c20e2c1c8297a60f33f133/threadpoolctl-2.1.0-py3-none-any.whl\n",
            "Requirement already satisfied, skipping upgrade: numpy>=1.13.3 in /usr/local/lib/python3.7/dist-packages (from scikit-learn) (1.19.5)\n",
            "Requirement already satisfied, skipping upgrade: scipy>=0.19.1 in /usr/local/lib/python3.7/dist-packages (from scikit-learn) (1.4.1)\n",
            "Installing collected packages: threadpoolctl, scikit-learn\n",
            "  Found existing installation: scikit-learn 0.22.2.post1\n",
            "    Uninstalling scikit-learn-0.22.2.post1:\n",
            "      Successfully uninstalled scikit-learn-0.22.2.post1\n",
            "Successfully installed scikit-learn-0.24.1 threadpoolctl-2.1.0\n"
          ],
          "name": "stdout"
        },
        {
          "output_type": "display_data",
          "data": {
            "application/vnd.colab-display-data+json": {
              "pip_warning": {
                "packages": [
                  "sklearn"
                ]
              }
            }
          },
          "metadata": {
            "tags": []
          }
        }
      ]
    },
    {
      "cell_type": "code",
      "metadata": {
        "id": "5OpKzP5BPWeN"
      },
      "source": [
        "import pandas as pd\n",
        "import numpy as np\n",
        "import matplotlib.pyplot as plt\n",
        "\n",
        "from sklearn.model_selection import train_test_split, KFold\n",
        "from sklearn.compose import ColumnTransformer\n",
        "from sklearn.preprocessing import OneHotEncoder, StandardScaler\n",
        "from sklearn.pipeline import Pipeline \n",
        "\n",
        "\n",
        "from sklearn.ensemble import RandomForestClassifier\n",
        "\n",
        "from sklearn.metrics import f1_score, accuracy_score, plot_confusion_matrix, classification_report"
      ],
      "execution_count": 12,
      "outputs": []
    },
    {
      "cell_type": "markdown",
      "metadata": {
        "id": "EQuibP5HQq61"
      },
      "source": [
        "## Data"
      ]
    },
    {
      "cell_type": "code",
      "metadata": {
        "id": "nMebCwi8QYca"
      },
      "source": [
        "data = pd.read_csv(\"SalesKaggle3.csv\")"
      ],
      "execution_count": 13,
      "outputs": []
    },
    {
      "cell_type": "code",
      "metadata": {
        "colab": {
          "base_uri": "https://localhost:8080/",
          "height": 439
        },
        "id": "6tqxHJ8GQwD9",
        "outputId": "4f73986c-7831-44f1-9105-654c88e8b92b"
      },
      "source": [
        "data"
      ],
      "execution_count": 14,
      "outputs": [
        {
          "output_type": "execute_result",
          "data": {
            "text/html": [
              "<div>\n",
              "<style scoped>\n",
              "    .dataframe tbody tr th:only-of-type {\n",
              "        vertical-align: middle;\n",
              "    }\n",
              "\n",
              "    .dataframe tbody tr th {\n",
              "        vertical-align: top;\n",
              "    }\n",
              "\n",
              "    .dataframe thead th {\n",
              "        text-align: right;\n",
              "    }\n",
              "</style>\n",
              "<table border=\"1\" class=\"dataframe\">\n",
              "  <thead>\n",
              "    <tr style=\"text-align: right;\">\n",
              "      <th></th>\n",
              "      <th>Order</th>\n",
              "      <th>File_Type</th>\n",
              "      <th>SKU_number</th>\n",
              "      <th>SoldFlag</th>\n",
              "      <th>SoldCount</th>\n",
              "      <th>MarketingType</th>\n",
              "      <th>ReleaseNumber</th>\n",
              "      <th>New_Release_Flag</th>\n",
              "      <th>StrengthFactor</th>\n",
              "      <th>PriceReg</th>\n",
              "      <th>ReleaseYear</th>\n",
              "      <th>ItemCount</th>\n",
              "      <th>LowUserPrice</th>\n",
              "      <th>LowNetPrice</th>\n",
              "    </tr>\n",
              "  </thead>\n",
              "  <tbody>\n",
              "    <tr>\n",
              "      <th>0</th>\n",
              "      <td>2</td>\n",
              "      <td>Historical</td>\n",
              "      <td>1737127</td>\n",
              "      <td>0.0</td>\n",
              "      <td>0.0</td>\n",
              "      <td>D</td>\n",
              "      <td>15</td>\n",
              "      <td>1</td>\n",
              "      <td>6.827430e+05</td>\n",
              "      <td>44.99</td>\n",
              "      <td>2015</td>\n",
              "      <td>8</td>\n",
              "      <td>28.97</td>\n",
              "      <td>31.84</td>\n",
              "    </tr>\n",
              "    <tr>\n",
              "      <th>1</th>\n",
              "      <td>3</td>\n",
              "      <td>Historical</td>\n",
              "      <td>3255963</td>\n",
              "      <td>0.0</td>\n",
              "      <td>0.0</td>\n",
              "      <td>D</td>\n",
              "      <td>7</td>\n",
              "      <td>1</td>\n",
              "      <td>1.016014e+06</td>\n",
              "      <td>24.81</td>\n",
              "      <td>2005</td>\n",
              "      <td>39</td>\n",
              "      <td>0.00</td>\n",
              "      <td>15.54</td>\n",
              "    </tr>\n",
              "    <tr>\n",
              "      <th>2</th>\n",
              "      <td>4</td>\n",
              "      <td>Historical</td>\n",
              "      <td>612701</td>\n",
              "      <td>0.0</td>\n",
              "      <td>0.0</td>\n",
              "      <td>D</td>\n",
              "      <td>0</td>\n",
              "      <td>0</td>\n",
              "      <td>3.404640e+05</td>\n",
              "      <td>46.00</td>\n",
              "      <td>2013</td>\n",
              "      <td>34</td>\n",
              "      <td>30.19</td>\n",
              "      <td>27.97</td>\n",
              "    </tr>\n",
              "    <tr>\n",
              "      <th>3</th>\n",
              "      <td>6</td>\n",
              "      <td>Historical</td>\n",
              "      <td>115883</td>\n",
              "      <td>1.0</td>\n",
              "      <td>1.0</td>\n",
              "      <td>D</td>\n",
              "      <td>4</td>\n",
              "      <td>1</td>\n",
              "      <td>3.340110e+05</td>\n",
              "      <td>100.00</td>\n",
              "      <td>2006</td>\n",
              "      <td>20</td>\n",
              "      <td>133.93</td>\n",
              "      <td>83.15</td>\n",
              "    </tr>\n",
              "    <tr>\n",
              "      <th>4</th>\n",
              "      <td>7</td>\n",
              "      <td>Historical</td>\n",
              "      <td>863939</td>\n",
              "      <td>1.0</td>\n",
              "      <td>1.0</td>\n",
              "      <td>D</td>\n",
              "      <td>2</td>\n",
              "      <td>1</td>\n",
              "      <td>1.287938e+06</td>\n",
              "      <td>121.95</td>\n",
              "      <td>2010</td>\n",
              "      <td>28</td>\n",
              "      <td>4.00</td>\n",
              "      <td>23.99</td>\n",
              "    </tr>\n",
              "    <tr>\n",
              "      <th>...</th>\n",
              "      <td>...</td>\n",
              "      <td>...</td>\n",
              "      <td>...</td>\n",
              "      <td>...</td>\n",
              "      <td>...</td>\n",
              "      <td>...</td>\n",
              "      <td>...</td>\n",
              "      <td>...</td>\n",
              "      <td>...</td>\n",
              "      <td>...</td>\n",
              "      <td>...</td>\n",
              "      <td>...</td>\n",
              "      <td>...</td>\n",
              "      <td>...</td>\n",
              "    </tr>\n",
              "    <tr>\n",
              "      <th>198912</th>\n",
              "      <td>208023</td>\n",
              "      <td>Active</td>\n",
              "      <td>109683</td>\n",
              "      <td>NaN</td>\n",
              "      <td>NaN</td>\n",
              "      <td>D</td>\n",
              "      <td>7</td>\n",
              "      <td>1</td>\n",
              "      <td>2.101869e+05</td>\n",
              "      <td>72.87</td>\n",
              "      <td>2006</td>\n",
              "      <td>54</td>\n",
              "      <td>8.46</td>\n",
              "      <td>60.59</td>\n",
              "    </tr>\n",
              "    <tr>\n",
              "      <th>198913</th>\n",
              "      <td>208024</td>\n",
              "      <td>Active</td>\n",
              "      <td>416462</td>\n",
              "      <td>NaN</td>\n",
              "      <td>NaN</td>\n",
              "      <td>D</td>\n",
              "      <td>8</td>\n",
              "      <td>1</td>\n",
              "      <td>4.555041e+05</td>\n",
              "      <td>247.00</td>\n",
              "      <td>2009</td>\n",
              "      <td>65</td>\n",
              "      <td>8.40</td>\n",
              "      <td>74.85</td>\n",
              "    </tr>\n",
              "    <tr>\n",
              "      <th>198914</th>\n",
              "      <td>208025</td>\n",
              "      <td>Active</td>\n",
              "      <td>658242</td>\n",
              "      <td>NaN</td>\n",
              "      <td>NaN</td>\n",
              "      <td>S</td>\n",
              "      <td>2</td>\n",
              "      <td>1</td>\n",
              "      <td>1.692746e+05</td>\n",
              "      <td>50.00</td>\n",
              "      <td>2012</td>\n",
              "      <td>23</td>\n",
              "      <td>23.98</td>\n",
              "      <td>32.62</td>\n",
              "    </tr>\n",
              "    <tr>\n",
              "      <th>198915</th>\n",
              "      <td>208026</td>\n",
              "      <td>Active</td>\n",
              "      <td>2538340</td>\n",
              "      <td>NaN</td>\n",
              "      <td>NaN</td>\n",
              "      <td>S</td>\n",
              "      <td>2</td>\n",
              "      <td>1</td>\n",
              "      <td>3.775266e+05</td>\n",
              "      <td>46.95</td>\n",
              "      <td>2001</td>\n",
              "      <td>23</td>\n",
              "      <td>27.42</td>\n",
              "      <td>37.89</td>\n",
              "    </tr>\n",
              "    <tr>\n",
              "      <th>198916</th>\n",
              "      <td>208027</td>\n",
              "      <td>Active</td>\n",
              "      <td>416662</td>\n",
              "      <td>NaN</td>\n",
              "      <td>NaN</td>\n",
              "      <td>D</td>\n",
              "      <td>15</td>\n",
              "      <td>1</td>\n",
              "      <td>1.183068e+05</td>\n",
              "      <td>120.00</td>\n",
              "      <td>2010</td>\n",
              "      <td>44</td>\n",
              "      <td>10.97</td>\n",
              "      <td>60.67</td>\n",
              "    </tr>\n",
              "  </tbody>\n",
              "</table>\n",
              "<p>198917 rows × 14 columns</p>\n",
              "</div>"
            ],
            "text/plain": [
              "         Order   File_Type  SKU_number  ...  ItemCount  LowUserPrice LowNetPrice\n",
              "0            2  Historical     1737127  ...          8         28.97       31.84\n",
              "1            3  Historical     3255963  ...         39          0.00       15.54\n",
              "2            4  Historical      612701  ...         34         30.19       27.97\n",
              "3            6  Historical      115883  ...         20        133.93       83.15\n",
              "4            7  Historical      863939  ...         28          4.00       23.99\n",
              "...        ...         ...         ...  ...        ...           ...         ...\n",
              "198912  208023      Active      109683  ...         54          8.46       60.59\n",
              "198913  208024      Active      416462  ...         65          8.40       74.85\n",
              "198914  208025      Active      658242  ...         23         23.98       32.62\n",
              "198915  208026      Active     2538340  ...         23         27.42       37.89\n",
              "198916  208027      Active      416662  ...         44         10.97       60.67\n",
              "\n",
              "[198917 rows x 14 columns]"
            ]
          },
          "metadata": {
            "tags": []
          },
          "execution_count": 14
        }
      ]
    },
    {
      "cell_type": "code",
      "metadata": {
        "colab": {
          "base_uri": "https://localhost:8080/"
        },
        "id": "m5uJgu1PQxBN",
        "outputId": "452feac0-b197-4925-f409-a08efaebc30d"
      },
      "source": [
        "data.info()"
      ],
      "execution_count": 15,
      "outputs": [
        {
          "output_type": "stream",
          "text": [
            "<class 'pandas.core.frame.DataFrame'>\n",
            "RangeIndex: 198917 entries, 0 to 198916\n",
            "Data columns (total 14 columns):\n",
            " #   Column            Non-Null Count   Dtype  \n",
            "---  ------            --------------   -----  \n",
            " 0   Order             198917 non-null  int64  \n",
            " 1   File_Type         198917 non-null  object \n",
            " 2   SKU_number        198917 non-null  int64  \n",
            " 3   SoldFlag          75996 non-null   float64\n",
            " 4   SoldCount         75996 non-null   float64\n",
            " 5   MarketingType     198917 non-null  object \n",
            " 6   ReleaseNumber     198917 non-null  int64  \n",
            " 7   New_Release_Flag  198917 non-null  int64  \n",
            " 8   StrengthFactor    198917 non-null  float64\n",
            " 9   PriceReg          198917 non-null  float64\n",
            " 10  ReleaseYear       198917 non-null  int64  \n",
            " 11  ItemCount         198917 non-null  int64  \n",
            " 12  LowUserPrice      198917 non-null  float64\n",
            " 13  LowNetPrice       198917 non-null  float64\n",
            "dtypes: float64(6), int64(6), object(2)\n",
            "memory usage: 21.2+ MB\n"
          ],
          "name": "stdout"
        }
      ]
    },
    {
      "cell_type": "code",
      "metadata": {
        "colab": {
          "base_uri": "https://localhost:8080/"
        },
        "id": "QLGC3cIXQzHU",
        "outputId": "56b198ae-0554-4b54-9f2f-1fd17a21dafc"
      },
      "source": [
        "#checking the count of missing value\n",
        "data.isna().sum()"
      ],
      "execution_count": 16,
      "outputs": [
        {
          "output_type": "execute_result",
          "data": {
            "text/plain": [
              "Order                    0\n",
              "File_Type                0\n",
              "SKU_number               0\n",
              "SoldFlag            122921\n",
              "SoldCount           122921\n",
              "MarketingType            0\n",
              "ReleaseNumber            0\n",
              "New_Release_Flag         0\n",
              "StrengthFactor           0\n",
              "PriceReg                 0\n",
              "ReleaseYear              0\n",
              "ItemCount                0\n",
              "LowUserPrice             0\n",
              "LowNetPrice              0\n",
              "dtype: int64"
            ]
          },
          "metadata": {
            "tags": []
          },
          "execution_count": 16
        }
      ]
    },
    {
      "cell_type": "markdown",
      "metadata": {
        "id": "uLfEEw-jRS8z"
      },
      "source": [
        "## Data Preparation/Preprocessing\n",
        "- We are only going to work with \"Historical Attributes\" inside the column \"File_Type\" so first we need to drop active from that column."
      ]
    },
    {
      "cell_type": "code",
      "metadata": {
        "id": "tP_fG9ouQ2mt"
      },
      "source": [
        "\n",
        "def data_preparation(df):\n",
        "    df = df.copy()\n",
        "    \n",
        "    # Only use historical data\n",
        "    df = df.query(\"File_Type == 'Historical'\")\n",
        "    \n",
        "    # Drop unused columns\n",
        "    df = df.drop(['Order', 'File_Type', 'SKU_number', 'SoldCount'], axis=1)\n",
        "    \n",
        "    # Shuffle data\n",
        "    df = df.sample(frac=1.0, random_state=1)\n",
        "    \n",
        "    # Split df into X and y\n",
        "    y = df['SoldFlag']\n",
        "    X = df.drop('SoldFlag', axis=1)\n",
        "    \n",
        "    return X, y"
      ],
      "execution_count": 17,
      "outputs": []
    },
    {
      "cell_type": "code",
      "metadata": {
        "id": "AzC9awFyRsDs"
      },
      "source": [
        "X, y = data_preparation(data)"
      ],
      "execution_count": 18,
      "outputs": []
    },
    {
      "cell_type": "code",
      "metadata": {
        "colab": {
          "base_uri": "https://localhost:8080/",
          "height": 419
        },
        "id": "iZGmGNcjRvEA",
        "outputId": "312ab282-0527-4e37-f24d-2d5e5422e3e1"
      },
      "source": [
        "X"
      ],
      "execution_count": 19,
      "outputs": [
        {
          "output_type": "execute_result",
          "data": {
            "text/html": [
              "<div>\n",
              "<style scoped>\n",
              "    .dataframe tbody tr th:only-of-type {\n",
              "        vertical-align: middle;\n",
              "    }\n",
              "\n",
              "    .dataframe tbody tr th {\n",
              "        vertical-align: top;\n",
              "    }\n",
              "\n",
              "    .dataframe thead th {\n",
              "        text-align: right;\n",
              "    }\n",
              "</style>\n",
              "<table border=\"1\" class=\"dataframe\">\n",
              "  <thead>\n",
              "    <tr style=\"text-align: right;\">\n",
              "      <th></th>\n",
              "      <th>MarketingType</th>\n",
              "      <th>ReleaseNumber</th>\n",
              "      <th>New_Release_Flag</th>\n",
              "      <th>StrengthFactor</th>\n",
              "      <th>PriceReg</th>\n",
              "      <th>ReleaseYear</th>\n",
              "      <th>ItemCount</th>\n",
              "      <th>LowUserPrice</th>\n",
              "      <th>LowNetPrice</th>\n",
              "    </tr>\n",
              "  </thead>\n",
              "  <tbody>\n",
              "    <tr>\n",
              "      <th>37862</th>\n",
              "      <td>S</td>\n",
              "      <td>12</td>\n",
              "      <td>1</td>\n",
              "      <td>545082.0</td>\n",
              "      <td>96.67</td>\n",
              "      <td>2011</td>\n",
              "      <td>12</td>\n",
              "      <td>73.74</td>\n",
              "      <td>101.33</td>\n",
              "    </tr>\n",
              "    <tr>\n",
              "      <th>35304</th>\n",
              "      <td>S</td>\n",
              "      <td>2</td>\n",
              "      <td>1</td>\n",
              "      <td>4273940.0</td>\n",
              "      <td>58.00</td>\n",
              "      <td>2002</td>\n",
              "      <td>32</td>\n",
              "      <td>85.60</td>\n",
              "      <td>23.98</td>\n",
              "    </tr>\n",
              "    <tr>\n",
              "      <th>26138</th>\n",
              "      <td>D</td>\n",
              "      <td>9</td>\n",
              "      <td>1</td>\n",
              "      <td>165834.0</td>\n",
              "      <td>76.95</td>\n",
              "      <td>2011</td>\n",
              "      <td>48</td>\n",
              "      <td>75.57</td>\n",
              "      <td>42.67</td>\n",
              "    </tr>\n",
              "    <tr>\n",
              "      <th>52327</th>\n",
              "      <td>S</td>\n",
              "      <td>22</td>\n",
              "      <td>1</td>\n",
              "      <td>79220.0</td>\n",
              "      <td>54.25</td>\n",
              "      <td>2012</td>\n",
              "      <td>31</td>\n",
              "      <td>36.47</td>\n",
              "      <td>22.49</td>\n",
              "    </tr>\n",
              "    <tr>\n",
              "      <th>6038</th>\n",
              "      <td>D</td>\n",
              "      <td>8</td>\n",
              "      <td>1</td>\n",
              "      <td>80014.0</td>\n",
              "      <td>38.99</td>\n",
              "      <td>2008</td>\n",
              "      <td>62</td>\n",
              "      <td>153.24</td>\n",
              "      <td>69.43</td>\n",
              "    </tr>\n",
              "    <tr>\n",
              "      <th>...</th>\n",
              "      <td>...</td>\n",
              "      <td>...</td>\n",
              "      <td>...</td>\n",
              "      <td>...</td>\n",
              "      <td>...</td>\n",
              "      <td>...</td>\n",
              "      <td>...</td>\n",
              "      <td>...</td>\n",
              "      <td>...</td>\n",
              "    </tr>\n",
              "    <tr>\n",
              "      <th>20609</th>\n",
              "      <td>D</td>\n",
              "      <td>8</td>\n",
              "      <td>1</td>\n",
              "      <td>40841.0</td>\n",
              "      <td>103.24</td>\n",
              "      <td>2010</td>\n",
              "      <td>48</td>\n",
              "      <td>99.50</td>\n",
              "      <td>115.55</td>\n",
              "    </tr>\n",
              "    <tr>\n",
              "      <th>21440</th>\n",
              "      <td>D</td>\n",
              "      <td>0</td>\n",
              "      <td>0</td>\n",
              "      <td>1611172.0</td>\n",
              "      <td>86.64</td>\n",
              "      <td>2011</td>\n",
              "      <td>19</td>\n",
              "      <td>55.19</td>\n",
              "      <td>78.38</td>\n",
              "    </tr>\n",
              "    <tr>\n",
              "      <th>73349</th>\n",
              "      <td>S</td>\n",
              "      <td>2</td>\n",
              "      <td>1</td>\n",
              "      <td>1628317.0</td>\n",
              "      <td>69.99</td>\n",
              "      <td>2004</td>\n",
              "      <td>43</td>\n",
              "      <td>4.02</td>\n",
              "      <td>30.43</td>\n",
              "    </tr>\n",
              "    <tr>\n",
              "      <th>50057</th>\n",
              "      <td>S</td>\n",
              "      <td>2</td>\n",
              "      <td>1</td>\n",
              "      <td>1660915.0</td>\n",
              "      <td>44.00</td>\n",
              "      <td>2004</td>\n",
              "      <td>32</td>\n",
              "      <td>34.51</td>\n",
              "      <td>10.12</td>\n",
              "    </tr>\n",
              "    <tr>\n",
              "      <th>5192</th>\n",
              "      <td>D</td>\n",
              "      <td>2</td>\n",
              "      <td>1</td>\n",
              "      <td>1592545.0</td>\n",
              "      <td>6.18</td>\n",
              "      <td>2009</td>\n",
              "      <td>21</td>\n",
              "      <td>62.62</td>\n",
              "      <td>10.98</td>\n",
              "    </tr>\n",
              "  </tbody>\n",
              "</table>\n",
              "<p>75996 rows × 9 columns</p>\n",
              "</div>"
            ],
            "text/plain": [
              "      MarketingType  ReleaseNumber  ...  LowUserPrice  LowNetPrice\n",
              "37862             S             12  ...         73.74       101.33\n",
              "35304             S              2  ...         85.60        23.98\n",
              "26138             D              9  ...         75.57        42.67\n",
              "52327             S             22  ...         36.47        22.49\n",
              "6038              D              8  ...        153.24        69.43\n",
              "...             ...            ...  ...           ...          ...\n",
              "20609             D              8  ...         99.50       115.55\n",
              "21440             D              0  ...         55.19        78.38\n",
              "73349             S              2  ...          4.02        30.43\n",
              "50057             S              2  ...         34.51        10.12\n",
              "5192              D              2  ...         62.62        10.98\n",
              "\n",
              "[75996 rows x 9 columns]"
            ]
          },
          "metadata": {
            "tags": []
          },
          "execution_count": 19
        }
      ]
    },
    {
      "cell_type": "code",
      "metadata": {
        "colab": {
          "base_uri": "https://localhost:8080/"
        },
        "id": "ZPgr4AUYSLkS",
        "outputId": "8683ead6-ccfb-4545-f1ae-ce53d524651b"
      },
      "source": [
        "\n",
        "y"
      ],
      "execution_count": 20,
      "outputs": [
        {
          "output_type": "execute_result",
          "data": {
            "text/plain": [
              "37862    0.0\n",
              "35304    0.0\n",
              "26138    0.0\n",
              "52327    0.0\n",
              "6038     0.0\n",
              "        ... \n",
              "20609    0.0\n",
              "21440    1.0\n",
              "73349    0.0\n",
              "50057    0.0\n",
              "5192     1.0\n",
              "Name: SoldFlag, Length: 75996, dtype: float64"
            ]
          },
          "metadata": {
            "tags": []
          },
          "execution_count": 20
        }
      ]
    },
    {
      "cell_type": "markdown",
      "metadata": {
        "id": "IsfgDCFkUc_7"
      },
      "source": [
        "# Narration\n",
        "- We need to Onehot encode the \"Marketing Type\" mainly looks like a Binary encoding. \n",
        "- SoldCount is a function for Soldflag that means we can't keep Soldcount as it already defines if the product has been sold so for a practical model, it is not feasible to give hint to the target.\n",
        "- We will remove \"Unique identifier\" from the data like \"Order\", \"SKU_number\", etc.\n",
        "- We don't need the file type anymore as we have all historical records."
      ]
    },
    {
      "cell_type": "markdown",
      "metadata": {
        "id": "hiMKApJMXAaK"
      },
      "source": [
        "## Pipeline"
      ]
    },
    {
      "cell_type": "code",
      "metadata": {
        "id": "AP4ba49BSQ0q"
      },
      "source": [
        "def model_pipeline():\n",
        "    binary_transformer = Pipeline(steps=[\n",
        "        ('onehot', OneHotEncoder(sparse=False, drop='if_binary'))\n",
        "    ])\n",
        "    \n",
        "    nominal_transformer = Pipeline(steps=[\n",
        "        ('onehot', OneHotEncoder(sparse=False, handle_unknown='ignore'))\n",
        "    ])\n",
        "    \n",
        "    preprocessor = ColumnTransformer(transformers=[\n",
        "        ('binary', binary_transformer, ['MarketingType']),\n",
        "        ('nominal', nominal_transformer, ['ReleaseNumber'])\n",
        "    ], remainder='passthrough')\n",
        "    \n",
        "    model = Pipeline(steps=[\n",
        "        ('preprocessor', preprocessor),\n",
        "        ('classifier', RandomForestClassifier(random_state=1))\n",
        "    ])\n",
        "    \n",
        "    return model"
      ],
      "execution_count": 21,
      "outputs": []
    },
    {
      "cell_type": "markdown",
      "metadata": {
        "id": "fXbmsc3Ja41b"
      },
      "source": [
        "# Model training and Evaluation"
      ]
    },
    {
      "cell_type": "markdown",
      "metadata": {
        "id": "y901SjtEbJpE"
      },
      "source": [
        "#### We using Kfold for validation"
      ]
    },
    {
      "cell_type": "code",
      "metadata": {
        "colab": {
          "base_uri": "https://localhost:8080/"
        },
        "id": "UfVCDmLIXHiP",
        "outputId": "b13b8bf5-86b4-4ac0-97a0-759d01fdbc35"
      },
      "source": [
        "accs = []\n",
        "f1s = []\n",
        "\n",
        "kf = KFold(n_splits=5)\n",
        "\n",
        "for train_idx, test_idx in kf.split(X):\n",
        "    X_train = X.iloc[train_idx, :]\n",
        "    X_test = X.iloc[test_idx, :]\n",
        "    y_train = y.iloc[train_idx]\n",
        "    y_test = y.iloc[test_idx]\n",
        "    \n",
        "    model = model_pipeline()\n",
        "    model.fit(X_train, y_train)\n",
        "    \n",
        "    y_pred = model.predict(X_test)\n",
        "    \n",
        "    accs.append(accuracy_score(y_test, y_pred))\n",
        "    f1s.append(f1_score(y_test, y_pred, pos_label=1.0))\n",
        "\n",
        "acc = np.mean(accs)\n",
        "f1 = np.mean(f1s)\n",
        "\n",
        "print(\"Accuracy: {:.2f}%\".format(acc * 100))\n",
        "print(\"F1-Score: {:.5f}\".format(f1))"
      ],
      "execution_count": 22,
      "outputs": [
        {
          "output_type": "stream",
          "text": [
            "Accuracy: 83.54%\n",
            "F1-Score: 0.23681\n"
          ],
          "name": "stdout"
        }
      ]
    }
  ]
}