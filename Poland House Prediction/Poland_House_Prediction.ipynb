{
  "nbformat": 4,
  "nbformat_minor": 0,
  "metadata": {
    "colab": {
      "name": "Poland House Prediction.ipynb",
      "provenance": [],
      "collapsed_sections": []
    },
    "kernelspec": {
      "name": "python3",
      "display_name": "Python 3"
    }
  },
  "cells": [
    {
      "cell_type": "code",
      "metadata": {
        "id": "PSoEtwebAn3U"
      },
      "source": [
        "import pandas as pd\n",
        "import numpy as np\n",
        "import matplotlib.pyplot as plt\n",
        "%matplotlib inline\n",
        "\n",
        "from sklearn.preprocessing import StandardScaler, OneHotEncoder\n",
        "from sklearn.compose import ColumnTransformer\n",
        "from sklearn.pipeline import Pipeline\n",
        "from sklearn.model_selection import train_test_split\n",
        "\n",
        "from sklearn.ensemble import GradientBoostingRegressor"
      ],
      "execution_count": 2,
      "outputs": []
    },
    {
      "cell_type": "code",
      "metadata": {
        "id": "jhOssi9tBd39"
      },
      "source": [
        "data = pd.read_csv(\"drive/My Drive/Colab Notebooks/Houses.csv\", encoding='latin-1')"
      ],
      "execution_count": 5,
      "outputs": []
    },
    {
      "cell_type": "code",
      "metadata": {
        "colab": {
          "base_uri": "https://localhost:8080/",
          "height": 419
        },
        "id": "CAcp9TbOBoHc",
        "outputId": "a1aa03e9-76c4-4f4f-af43-9b0526e5206b"
      },
      "source": [
        "data"
      ],
      "execution_count": 6,
      "outputs": [
        {
          "output_type": "execute_result",
          "data": {
            "text/html": [
              "<div>\n",
              "<style scoped>\n",
              "    .dataframe tbody tr th:only-of-type {\n",
              "        vertical-align: middle;\n",
              "    }\n",
              "\n",
              "    .dataframe tbody tr th {\n",
              "        vertical-align: top;\n",
              "    }\n",
              "\n",
              "    .dataframe thead th {\n",
              "        text-align: right;\n",
              "    }\n",
              "</style>\n",
              "<table border=\"1\" class=\"dataframe\">\n",
              "  <thead>\n",
              "    <tr style=\"text-align: right;\">\n",
              "      <th></th>\n",
              "      <th>Unnamed: 0</th>\n",
              "      <th>address</th>\n",
              "      <th>city</th>\n",
              "      <th>floor</th>\n",
              "      <th>id</th>\n",
              "      <th>latitude</th>\n",
              "      <th>longitude</th>\n",
              "      <th>price</th>\n",
              "      <th>rooms</th>\n",
              "      <th>sq</th>\n",
              "      <th>year</th>\n",
              "    </tr>\n",
              "  </thead>\n",
              "  <tbody>\n",
              "    <tr>\n",
              "      <th>0</th>\n",
              "      <td>0</td>\n",
              "      <td>Podgórze Zab³ocie Stanis³awa Klimeckiego</td>\n",
              "      <td>Kraków</td>\n",
              "      <td>2.0</td>\n",
              "      <td>23918.0</td>\n",
              "      <td>50.049224</td>\n",
              "      <td>19.970379</td>\n",
              "      <td>749000.0</td>\n",
              "      <td>3.0</td>\n",
              "      <td>74.05</td>\n",
              "      <td>2021.0</td>\n",
              "    </tr>\n",
              "    <tr>\n",
              "      <th>1</th>\n",
              "      <td>1</td>\n",
              "      <td>Praga-Po³udnie Grochowska</td>\n",
              "      <td>Warszawa</td>\n",
              "      <td>3.0</td>\n",
              "      <td>17828.0</td>\n",
              "      <td>52.249775</td>\n",
              "      <td>21.106886</td>\n",
              "      <td>240548.0</td>\n",
              "      <td>1.0</td>\n",
              "      <td>24.38</td>\n",
              "      <td>2021.0</td>\n",
              "    </tr>\n",
              "    <tr>\n",
              "      <th>2</th>\n",
              "      <td>2</td>\n",
              "      <td>Krowodrza Czarnowiejska</td>\n",
              "      <td>Kraków</td>\n",
              "      <td>2.0</td>\n",
              "      <td>22784.0</td>\n",
              "      <td>50.066964</td>\n",
              "      <td>19.920025</td>\n",
              "      <td>427000.0</td>\n",
              "      <td>2.0</td>\n",
              "      <td>37.00</td>\n",
              "      <td>1970.0</td>\n",
              "    </tr>\n",
              "    <tr>\n",
              "      <th>3</th>\n",
              "      <td>3</td>\n",
              "      <td>Grunwald</td>\n",
              "      <td>Poznañ</td>\n",
              "      <td>2.0</td>\n",
              "      <td>4315.0</td>\n",
              "      <td>52.404212</td>\n",
              "      <td>16.882542</td>\n",
              "      <td>1290000.0</td>\n",
              "      <td>5.0</td>\n",
              "      <td>166.00</td>\n",
              "      <td>1935.0</td>\n",
              "    </tr>\n",
              "    <tr>\n",
              "      <th>4</th>\n",
              "      <td>4</td>\n",
              "      <td>Ochota Gotowy budynek. Stan deweloperski. Osta...</td>\n",
              "      <td>Warszawa</td>\n",
              "      <td>1.0</td>\n",
              "      <td>11770.0</td>\n",
              "      <td>52.212225</td>\n",
              "      <td>20.972630</td>\n",
              "      <td>996000.0</td>\n",
              "      <td>5.0</td>\n",
              "      <td>105.00</td>\n",
              "      <td>2020.0</td>\n",
              "    </tr>\n",
              "    <tr>\n",
              "      <th>...</th>\n",
              "      <td>...</td>\n",
              "      <td>...</td>\n",
              "      <td>...</td>\n",
              "      <td>...</td>\n",
              "      <td>...</td>\n",
              "      <td>...</td>\n",
              "      <td>...</td>\n",
              "      <td>...</td>\n",
              "      <td>...</td>\n",
              "      <td>...</td>\n",
              "      <td>...</td>\n",
              "    </tr>\n",
              "    <tr>\n",
              "      <th>23759</th>\n",
              "      <td>23759</td>\n",
              "      <td>Stare Miasto Naramowice</td>\n",
              "      <td>Poznañ</td>\n",
              "      <td>0.0</td>\n",
              "      <td>3976.0</td>\n",
              "      <td>52.449649</td>\n",
              "      <td>16.949408</td>\n",
              "      <td>543000.0</td>\n",
              "      <td>4.0</td>\n",
              "      <td>77.00</td>\n",
              "      <td>2020.0</td>\n",
              "    </tr>\n",
              "    <tr>\n",
              "      <th>23760</th>\n",
              "      <td>23760</td>\n",
              "      <td>W³ochy</td>\n",
              "      <td>Warszawa</td>\n",
              "      <td>4.0</td>\n",
              "      <td>10206.0</td>\n",
              "      <td>52.186109</td>\n",
              "      <td>20.948438</td>\n",
              "      <td>910000.0</td>\n",
              "      <td>3.0</td>\n",
              "      <td>71.00</td>\n",
              "      <td>2017.0</td>\n",
              "    </tr>\n",
              "    <tr>\n",
              "      <th>23761</th>\n",
              "      <td>23761</td>\n",
              "      <td>Nowe Miasto Malta ul. Katowicka</td>\n",
              "      <td>Poznañ</td>\n",
              "      <td>0.0</td>\n",
              "      <td>4952.0</td>\n",
              "      <td>52.397345</td>\n",
              "      <td>16.961939</td>\n",
              "      <td>430695.0</td>\n",
              "      <td>3.0</td>\n",
              "      <td>50.67</td>\n",
              "      <td>2022.0</td>\n",
              "    </tr>\n",
              "    <tr>\n",
              "      <th>23762</th>\n",
              "      <td>23762</td>\n",
              "      <td>Podgórze Duchackie Walerego S³awka</td>\n",
              "      <td>Kraków</td>\n",
              "      <td>6.0</td>\n",
              "      <td>24148.0</td>\n",
              "      <td>50.024231</td>\n",
              "      <td>19.959569</td>\n",
              "      <td>359000.0</td>\n",
              "      <td>2.0</td>\n",
              "      <td>38.86</td>\n",
              "      <td>2021.0</td>\n",
              "    </tr>\n",
              "    <tr>\n",
              "      <th>23763</th>\n",
              "      <td>23763</td>\n",
              "      <td>Ursynów</td>\n",
              "      <td>Warszawa</td>\n",
              "      <td>2.0</td>\n",
              "      <td>10889.0</td>\n",
              "      <td>52.141039</td>\n",
              "      <td>21.032321</td>\n",
              "      <td>604800.0</td>\n",
              "      <td>3.0</td>\n",
              "      <td>63.00</td>\n",
              "      <td>1978.0</td>\n",
              "    </tr>\n",
              "  </tbody>\n",
              "</table>\n",
              "<p>23764 rows × 11 columns</p>\n",
              "</div>"
            ],
            "text/plain": [
              "       Unnamed: 0  ...    year\n",
              "0               0  ...  2021.0\n",
              "1               1  ...  2021.0\n",
              "2               2  ...  1970.0\n",
              "3               3  ...  1935.0\n",
              "4               4  ...  2020.0\n",
              "...           ...  ...     ...\n",
              "23759       23759  ...  2020.0\n",
              "23760       23760  ...  2017.0\n",
              "23761       23761  ...  2022.0\n",
              "23762       23762  ...  2021.0\n",
              "23763       23763  ...  1978.0\n",
              "\n",
              "[23764 rows x 11 columns]"
            ]
          },
          "metadata": {
            "tags": []
          },
          "execution_count": 6
        }
      ]
    },
    {
      "cell_type": "code",
      "metadata": {
        "id": "kkxkrG6BBuv7"
      },
      "source": [
        "def preprocess_inputs(df):\n",
        "  df = df.copy()\n",
        "\n",
        "  #drop unwanted columns\n",
        "  df = df.drop(['Unnamed: 0', 'address', 'id'], axis=1)\n",
        "\n",
        "  #features and label\n",
        "  y = df['price']\n",
        "  X = df.drop('price', axis=1)\n",
        "\n",
        "  #split the data\n",
        "  X_train, X_test, y_train, y_test = train_test_split(X, y, train_size = 0.75, shuffle=True, random_state=1)\n",
        "\n",
        "  return X_train, X_test, y_train, y_test"
      ],
      "execution_count": 15,
      "outputs": []
    },
    {
      "cell_type": "code",
      "metadata": {
        "id": "KlNmrWCeB8U8"
      },
      "source": [
        "X_train, X_test, y_train, y_test = preprocess_inputs(data)"
      ],
      "execution_count": 17,
      "outputs": []
    },
    {
      "cell_type": "code",
      "metadata": {
        "colab": {
          "base_uri": "https://localhost:8080/",
          "height": 419
        },
        "id": "XwHG2d8EB-dk",
        "outputId": "0e3324ca-adf7-4033-8ee6-fe1a22faee6f"
      },
      "source": [
        "X_train"
      ],
      "execution_count": 18,
      "outputs": [
        {
          "output_type": "execute_result",
          "data": {
            "text/html": [
              "<div>\n",
              "<style scoped>\n",
              "    .dataframe tbody tr th:only-of-type {\n",
              "        vertical-align: middle;\n",
              "    }\n",
              "\n",
              "    .dataframe tbody tr th {\n",
              "        vertical-align: top;\n",
              "    }\n",
              "\n",
              "    .dataframe thead th {\n",
              "        text-align: right;\n",
              "    }\n",
              "</style>\n",
              "<table border=\"1\" class=\"dataframe\">\n",
              "  <thead>\n",
              "    <tr style=\"text-align: right;\">\n",
              "      <th></th>\n",
              "      <th>city</th>\n",
              "      <th>floor</th>\n",
              "      <th>latitude</th>\n",
              "      <th>longitude</th>\n",
              "      <th>rooms</th>\n",
              "      <th>sq</th>\n",
              "      <th>year</th>\n",
              "    </tr>\n",
              "  </thead>\n",
              "  <tbody>\n",
              "    <tr>\n",
              "      <th>14581</th>\n",
              "      <td>Kraków</td>\n",
              "      <td>7.0</td>\n",
              "      <td>50.064972</td>\n",
              "      <td>19.968826</td>\n",
              "      <td>2.0</td>\n",
              "      <td>53.06</td>\n",
              "      <td>2021.0</td>\n",
              "    </tr>\n",
              "    <tr>\n",
              "      <th>20969</th>\n",
              "      <td>Kraków</td>\n",
              "      <td>0.0</td>\n",
              "      <td>50.096642</td>\n",
              "      <td>20.013767</td>\n",
              "      <td>2.0</td>\n",
              "      <td>52.46</td>\n",
              "      <td>2020.0</td>\n",
              "    </tr>\n",
              "    <tr>\n",
              "      <th>3858</th>\n",
              "      <td>Warszawa</td>\n",
              "      <td>8.0</td>\n",
              "      <td>52.183927</td>\n",
              "      <td>21.008725</td>\n",
              "      <td>2.0</td>\n",
              "      <td>32.79</td>\n",
              "      <td>2022.0</td>\n",
              "    </tr>\n",
              "    <tr>\n",
              "      <th>9364</th>\n",
              "      <td>Poznañ</td>\n",
              "      <td>0.0</td>\n",
              "      <td>52.417260</td>\n",
              "      <td>16.957358</td>\n",
              "      <td>2.0</td>\n",
              "      <td>40.33</td>\n",
              "      <td>2021.0</td>\n",
              "    </tr>\n",
              "    <tr>\n",
              "      <th>6157</th>\n",
              "      <td>Poznañ</td>\n",
              "      <td>1.0</td>\n",
              "      <td>52.400663</td>\n",
              "      <td>16.919733</td>\n",
              "      <td>5.0</td>\n",
              "      <td>165.53</td>\n",
              "      <td>2020.0</td>\n",
              "    </tr>\n",
              "    <tr>\n",
              "      <th>...</th>\n",
              "      <td>...</td>\n",
              "      <td>...</td>\n",
              "      <td>...</td>\n",
              "      <td>...</td>\n",
              "      <td>...</td>\n",
              "      <td>...</td>\n",
              "      <td>...</td>\n",
              "    </tr>\n",
              "    <tr>\n",
              "      <th>10955</th>\n",
              "      <td>Warszawa</td>\n",
              "      <td>4.0</td>\n",
              "      <td>52.277527</td>\n",
              "      <td>21.022353</td>\n",
              "      <td>2.0</td>\n",
              "      <td>37.50</td>\n",
              "      <td>1968.0</td>\n",
              "    </tr>\n",
              "    <tr>\n",
              "      <th>17289</th>\n",
              "      <td>Kraków</td>\n",
              "      <td>4.0</td>\n",
              "      <td>50.056192</td>\n",
              "      <td>19.928406</td>\n",
              "      <td>1.0</td>\n",
              "      <td>35.35</td>\n",
              "      <td>2020.0</td>\n",
              "    </tr>\n",
              "    <tr>\n",
              "      <th>5192</th>\n",
              "      <td>Warszawa</td>\n",
              "      <td>3.0</td>\n",
              "      <td>52.231958</td>\n",
              "      <td>21.006725</td>\n",
              "      <td>2.0</td>\n",
              "      <td>36.00</td>\n",
              "      <td>2020.0</td>\n",
              "    </tr>\n",
              "    <tr>\n",
              "      <th>12172</th>\n",
              "      <td>Poznañ</td>\n",
              "      <td>0.0</td>\n",
              "      <td>52.387661</td>\n",
              "      <td>16.914801</td>\n",
              "      <td>1.0</td>\n",
              "      <td>20.00</td>\n",
              "      <td>1902.0</td>\n",
              "    </tr>\n",
              "    <tr>\n",
              "      <th>235</th>\n",
              "      <td>Warszawa</td>\n",
              "      <td>1.0</td>\n",
              "      <td>52.193987</td>\n",
              "      <td>21.045781</td>\n",
              "      <td>2.0</td>\n",
              "      <td>38.60</td>\n",
              "      <td>2020.0</td>\n",
              "    </tr>\n",
              "  </tbody>\n",
              "</table>\n",
              "<p>17823 rows × 7 columns</p>\n",
              "</div>"
            ],
            "text/plain": [
              "           city  floor   latitude  longitude  rooms      sq    year\n",
              "14581    Kraków    7.0  50.064972  19.968826    2.0   53.06  2021.0\n",
              "20969    Kraków    0.0  50.096642  20.013767    2.0   52.46  2020.0\n",
              "3858   Warszawa    8.0  52.183927  21.008725    2.0   32.79  2022.0\n",
              "9364     Poznañ    0.0  52.417260  16.957358    2.0   40.33  2021.0\n",
              "6157     Poznañ    1.0  52.400663  16.919733    5.0  165.53  2020.0\n",
              "...         ...    ...        ...        ...    ...     ...     ...\n",
              "10955  Warszawa    4.0  52.277527  21.022353    2.0   37.50  1968.0\n",
              "17289    Kraków    4.0  50.056192  19.928406    1.0   35.35  2020.0\n",
              "5192   Warszawa    3.0  52.231958  21.006725    2.0   36.00  2020.0\n",
              "12172    Poznañ    0.0  52.387661  16.914801    1.0   20.00  1902.0\n",
              "235    Warszawa    1.0  52.193987  21.045781    2.0   38.60  2020.0\n",
              "\n",
              "[17823 rows x 7 columns]"
            ]
          },
          "metadata": {
            "tags": []
          },
          "execution_count": 18
        }
      ]
    },
    {
      "cell_type": "code",
      "metadata": {
        "colab": {
          "base_uri": "https://localhost:8080/",
          "height": 419
        },
        "id": "AB2RI97SDe4m",
        "outputId": "60e32c10-2db5-4646-f2e8-aec28b20ed5b"
      },
      "source": [
        "X_test"
      ],
      "execution_count": 19,
      "outputs": [
        {
          "output_type": "execute_result",
          "data": {
            "text/html": [
              "<div>\n",
              "<style scoped>\n",
              "    .dataframe tbody tr th:only-of-type {\n",
              "        vertical-align: middle;\n",
              "    }\n",
              "\n",
              "    .dataframe tbody tr th {\n",
              "        vertical-align: top;\n",
              "    }\n",
              "\n",
              "    .dataframe thead th {\n",
              "        text-align: right;\n",
              "    }\n",
              "</style>\n",
              "<table border=\"1\" class=\"dataframe\">\n",
              "  <thead>\n",
              "    <tr style=\"text-align: right;\">\n",
              "      <th></th>\n",
              "      <th>city</th>\n",
              "      <th>floor</th>\n",
              "      <th>latitude</th>\n",
              "      <th>longitude</th>\n",
              "      <th>rooms</th>\n",
              "      <th>sq</th>\n",
              "      <th>year</th>\n",
              "    </tr>\n",
              "  </thead>\n",
              "  <tbody>\n",
              "    <tr>\n",
              "      <th>6912</th>\n",
              "      <td>Kraków</td>\n",
              "      <td>3.0</td>\n",
              "      <td>50.064972</td>\n",
              "      <td>19.968826</td>\n",
              "      <td>2.0</td>\n",
              "      <td>56.00</td>\n",
              "      <td>2009.0</td>\n",
              "    </tr>\n",
              "    <tr>\n",
              "      <th>18988</th>\n",
              "      <td>Kraków</td>\n",
              "      <td>0.0</td>\n",
              "      <td>50.085575</td>\n",
              "      <td>20.022019</td>\n",
              "      <td>3.0</td>\n",
              "      <td>45.00</td>\n",
              "      <td>1968.0</td>\n",
              "    </tr>\n",
              "    <tr>\n",
              "      <th>9847</th>\n",
              "      <td>Warszawa</td>\n",
              "      <td>4.0</td>\n",
              "      <td>52.236238</td>\n",
              "      <td>20.954781</td>\n",
              "      <td>1.0</td>\n",
              "      <td>24.50</td>\n",
              "      <td>1966.0</td>\n",
              "    </tr>\n",
              "    <tr>\n",
              "      <th>6709</th>\n",
              "      <td>Warszawa</td>\n",
              "      <td>10.0</td>\n",
              "      <td>52.231158</td>\n",
              "      <td>21.010063</td>\n",
              "      <td>1.0</td>\n",
              "      <td>63.00</td>\n",
              "      <td>2021.0</td>\n",
              "    </tr>\n",
              "    <tr>\n",
              "      <th>8286</th>\n",
              "      <td>Poznañ</td>\n",
              "      <td>2.0</td>\n",
              "      <td>52.391608</td>\n",
              "      <td>16.994063</td>\n",
              "      <td>3.0</td>\n",
              "      <td>61.22</td>\n",
              "      <td>2019.0</td>\n",
              "    </tr>\n",
              "    <tr>\n",
              "      <th>...</th>\n",
              "      <td>...</td>\n",
              "      <td>...</td>\n",
              "      <td>...</td>\n",
              "      <td>...</td>\n",
              "      <td>...</td>\n",
              "      <td>...</td>\n",
              "      <td>...</td>\n",
              "    </tr>\n",
              "    <tr>\n",
              "      <th>14867</th>\n",
              "      <td>Kraków</td>\n",
              "      <td>1.0</td>\n",
              "      <td>50.058010</td>\n",
              "      <td>19.928423</td>\n",
              "      <td>1.0</td>\n",
              "      <td>44.28</td>\n",
              "      <td>1896.0</td>\n",
              "    </tr>\n",
              "    <tr>\n",
              "      <th>15632</th>\n",
              "      <td>Poznañ</td>\n",
              "      <td>3.0</td>\n",
              "      <td>52.404212</td>\n",
              "      <td>16.882542</td>\n",
              "      <td>2.0</td>\n",
              "      <td>48.77</td>\n",
              "      <td>2021.0</td>\n",
              "    </tr>\n",
              "    <tr>\n",
              "      <th>9210</th>\n",
              "      <td>Warszawa</td>\n",
              "      <td>10.0</td>\n",
              "      <td>52.286932</td>\n",
              "      <td>21.043068</td>\n",
              "      <td>2.0</td>\n",
              "      <td>38.00</td>\n",
              "      <td>1971.0</td>\n",
              "    </tr>\n",
              "    <tr>\n",
              "      <th>2415</th>\n",
              "      <td>Kraków</td>\n",
              "      <td>3.0</td>\n",
              "      <td>50.083526</td>\n",
              "      <td>19.903817</td>\n",
              "      <td>2.0</td>\n",
              "      <td>56.00</td>\n",
              "      <td>2000.0</td>\n",
              "    </tr>\n",
              "    <tr>\n",
              "      <th>8374</th>\n",
              "      <td>Poznañ</td>\n",
              "      <td>3.0</td>\n",
              "      <td>52.403514</td>\n",
              "      <td>16.933021</td>\n",
              "      <td>1.0</td>\n",
              "      <td>35.00</td>\n",
              "      <td>1910.0</td>\n",
              "    </tr>\n",
              "  </tbody>\n",
              "</table>\n",
              "<p>5941 rows × 7 columns</p>\n",
              "</div>"
            ],
            "text/plain": [
              "           city  floor   latitude  longitude  rooms     sq    year\n",
              "6912     Kraków    3.0  50.064972  19.968826    2.0  56.00  2009.0\n",
              "18988    Kraków    0.0  50.085575  20.022019    3.0  45.00  1968.0\n",
              "9847   Warszawa    4.0  52.236238  20.954781    1.0  24.50  1966.0\n",
              "6709   Warszawa   10.0  52.231158  21.010063    1.0  63.00  2021.0\n",
              "8286     Poznañ    2.0  52.391608  16.994063    3.0  61.22  2019.0\n",
              "...         ...    ...        ...        ...    ...    ...     ...\n",
              "14867    Kraków    1.0  50.058010  19.928423    1.0  44.28  1896.0\n",
              "15632    Poznañ    3.0  52.404212  16.882542    2.0  48.77  2021.0\n",
              "9210   Warszawa   10.0  52.286932  21.043068    2.0  38.00  1971.0\n",
              "2415     Kraków    3.0  50.083526  19.903817    2.0  56.00  2000.0\n",
              "8374     Poznañ    3.0  52.403514  16.933021    1.0  35.00  1910.0\n",
              "\n",
              "[5941 rows x 7 columns]"
            ]
          },
          "metadata": {
            "tags": []
          },
          "execution_count": 19
        }
      ]
    },
    {
      "cell_type": "markdown",
      "metadata": {
        "id": "KCSLSLyjDvjJ"
      },
      "source": [
        "#Building Pipeline"
      ]
    },
    {
      "cell_type": "code",
      "metadata": {
        "id": "RnzrVU7ZDfy9"
      },
      "source": [
        "nominal_transformer = Pipeline(steps=[\n",
        "                                      ('onehotencoder', OneHotEncoder(sparse=False))\n",
        "])\n",
        "\n",
        "preprocessor = ColumnTransformer(transformers=[\n",
        "                                               ('nominal', nominal_transformer, ['city'])\n",
        "], remainder = 'passthrough')\n",
        "\n",
        "model = Pipeline(steps=[\n",
        "                        ('preprocessor', preprocessor),\n",
        "                        ('scaler', StandardScaler()),\n",
        "                        ('regressor', GradientBoostingRegressor())\n",
        "])"
      ],
      "execution_count": 20,
      "outputs": []
    },
    {
      "cell_type": "markdown",
      "metadata": {
        "id": "rU5F5r6DFk2R"
      },
      "source": [
        "# Model Training"
      ]
    },
    {
      "cell_type": "code",
      "metadata": {
        "id": "gihYwPhtFiFO"
      },
      "source": [
        "model = model.fit(X_train, y_train)"
      ],
      "execution_count": 23,
      "outputs": []
    },
    {
      "cell_type": "code",
      "metadata": {
        "id": "LJ604AYZFqPN"
      },
      "source": [
        "model_accuracy = model.score(X_test, y_test)"
      ],
      "execution_count": 24,
      "outputs": []
    },
    {
      "cell_type": "code",
      "metadata": {
        "colab": {
          "base_uri": "https://localhost:8080/"
        },
        "id": "siSY3LSaFwyV",
        "outputId": "06d14001-f9bb-4f4c-cb85-4e8c5fa2d8dc"
      },
      "source": [
        "print(model_accuracy)"
      ],
      "execution_count": 25,
      "outputs": [
        {
          "output_type": "stream",
          "text": [
            "0.7761825658077705\n"
          ],
          "name": "stdout"
        }
      ]
    },
    {
      "cell_type": "code",
      "metadata": {
        "id": "jASZwAMMF5c2"
      },
      "source": [
        "y_pred = model.predict(X_test)"
      ],
      "execution_count": 26,
      "outputs": []
    },
    {
      "cell_type": "code",
      "metadata": {
        "colab": {
          "base_uri": "https://localhost:8080/"
        },
        "id": "-57wO3fTF_q2",
        "outputId": "6a3920ac-ee4b-4751-e302-0766bcf79e76"
      },
      "source": [
        "print(y_pred)"
      ],
      "execution_count": 27,
      "outputs": [
        {
          "output_type": "stream",
          "text": [
            "[676100.3618961  380714.70627695 337871.08552428 ... 375504.84707122\n",
            " 476455.55348193 331002.91793455]\n"
          ],
          "name": "stdout"
        }
      ]
    },
    {
      "cell_type": "code",
      "metadata": {
        "colab": {
          "base_uri": "https://localhost:8080/"
        },
        "id": "qq0ddAviGBeW",
        "outputId": "130a5a76-d734-4c6e-9c8a-aa5d7d960d9b"
      },
      "source": [
        "y_test"
      ],
      "execution_count": 28,
      "outputs": [
        {
          "output_type": "execute_result",
          "data": {
            "text/plain": [
              "6912     750000.0\n",
              "18988    399900.0\n",
              "9847     300000.0\n",
              "6709     999000.0\n",
              "8286     427928.0\n",
              "           ...   \n",
              "14867    595000.0\n",
              "15632    399914.0\n",
              "9210     330000.0\n",
              "2415     515000.0\n",
              "8374     315000.0\n",
              "Name: price, Length: 5941, dtype: float64"
            ]
          },
          "metadata": {
            "tags": []
          },
          "execution_count": 28
        }
      ]
    },
    {
      "cell_type": "code",
      "metadata": {
        "colab": {
          "base_uri": "https://localhost:8080/"
        },
        "id": "W976jsseGKaf",
        "outputId": "3c1534f2-e4e4-4836-dcfa-9ffc19468fd8"
      },
      "source": [
        "print(y_test - y_pred)"
      ],
      "execution_count": 30,
      "outputs": [
        {
          "output_type": "stream",
          "text": [
            "6912      73899.638104\n",
            "18988     19185.293723\n",
            "9847     -37871.085524\n",
            "6709      99802.948948\n",
            "8286    -130441.707887\n",
            "             ...      \n",
            "14867      3887.823931\n",
            "15632     16398.116296\n",
            "9210     -45504.847071\n",
            "2415      38544.446518\n",
            "8374     -16002.917935\n",
            "Name: price, Length: 5941, dtype: float64\n"
          ],
          "name": "stdout"
        }
      ]
    },
    {
      "cell_type": "code",
      "metadata": {
        "colab": {
          "base_uri": "https://localhost:8080/"
        },
        "id": "oBl8c4jkGO5f",
        "outputId": "63d117cd-5283-4475-c14a-97bc6620f4af"
      },
      "source": [
        "print((y_test - y_pred) ** 2)"
      ],
      "execution_count": 31,
      "outputs": [
        {
          "output_type": "stream",
          "text": [
            "6912     5.461157e+09\n",
            "18988    3.680755e+08\n",
            "9847     1.434219e+09\n",
            "6709     9.960629e+09\n",
            "8286     1.701504e+10\n",
            "             ...     \n",
            "14867    1.511517e+07\n",
            "15632    2.688982e+08\n",
            "9210     2.070691e+09\n",
            "2415     1.485674e+09\n",
            "8374     2.560934e+08\n",
            "Name: price, Length: 5941, dtype: float64\n"
          ],
          "name": "stdout"
        }
      ]
    },
    {
      "cell_type": "code",
      "metadata": {
        "colab": {
          "base_uri": "https://localhost:8080/"
        },
        "id": "lMpB8SrdGWMI",
        "outputId": "a6fe32f7-225e-418d-f83a-f05565b5bdd4"
      },
      "source": [
        "print(np.mean((y_test - y_pred)**2))"
      ],
      "execution_count": 33,
      "outputs": [
        {
          "output_type": "stream",
          "text": [
            "65680150552.983765\n"
          ],
          "name": "stdout"
        }
      ]
    },
    {
      "cell_type": "code",
      "metadata": {
        "id": "mCvGukHDGgqQ"
      },
      "source": [
        "rmse = np.sqrt(np.mean((y_test - y_pred)**2))"
      ],
      "execution_count": 36,
      "outputs": []
    },
    {
      "cell_type": "code",
      "metadata": {
        "id": "8l2ITls6GyLR"
      },
      "source": [
        ""
      ],
      "execution_count": null,
      "outputs": []
    }
  ]
}