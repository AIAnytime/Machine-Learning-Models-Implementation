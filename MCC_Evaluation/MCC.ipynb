{
  "nbformat": 4,
  "nbformat_minor": 0,
  "metadata": {
    "colab": {
      "name": "MCC.ipynb",
      "provenance": []
    },
    "kernelspec": {
      "name": "python3",
      "display_name": "Python 3"
    },
    "language_info": {
      "name": "python"
    }
  },
  "cells": [
    {
      "cell_type": "code",
      "metadata": {
        "id": "PhD5ur5KbCcJ"
      },
      "source": [
        "import pandas as pd\n",
        "import numpy as np\n",
        "\n",
        "\n",
        "from sklearn.model_selection import train_test_split #for splitting data\n",
        "from sklearn.preprocessing import OneHotEncoder # to handle categorical features\n",
        "from sklearn.compose import ColumnTransformer #for the transormations of one hot encoders\n",
        "from sklearn.pipeline import Pipeline # for the model pipeline\n",
        "\n",
        "from sklearn.ensemble import RandomForestClassifier #tree-based classifier\n",
        "\n",
        "from sklearn.metrics import f1_score, matthews_corrcoef, plot_confusion_matrix, classification_report"
      ],
      "execution_count": 31,
      "outputs": []
    },
    {
      "cell_type": "markdown",
      "metadata": {
        "id": "3z160XHXv1-h"
      },
      "source": [
        "# Data "
      ]
    },
    {
      "cell_type": "markdown",
      "metadata": {
        "id": "TFyAVB9f0b1K"
      },
      "source": [
        "# Task\n",
        "\n",
        "To predict the product sales based on the historical records."
      ]
    },
    {
      "cell_type": "code",
      "metadata": {
        "id": "W1D1EkDdqOLs"
      },
      "source": [
        "data = pd.read_csv(\"SalesKaggle3.csv\")"
      ],
      "execution_count": 2,
      "outputs": []
    },
    {
      "cell_type": "code",
      "metadata": {
        "colab": {
          "base_uri": "https://localhost:8080/",
          "height": 439
        },
        "id": "xFP5i9KdqSw3",
        "outputId": "947d2dc6-a2c2-4c14-d397-9792cbafa6ee"
      },
      "source": [
        "data"
      ],
      "execution_count": 3,
      "outputs": [
        {
          "output_type": "execute_result",
          "data": {
            "text/html": [
              "<div>\n",
              "<style scoped>\n",
              "    .dataframe tbody tr th:only-of-type {\n",
              "        vertical-align: middle;\n",
              "    }\n",
              "\n",
              "    .dataframe tbody tr th {\n",
              "        vertical-align: top;\n",
              "    }\n",
              "\n",
              "    .dataframe thead th {\n",
              "        text-align: right;\n",
              "    }\n",
              "</style>\n",
              "<table border=\"1\" class=\"dataframe\">\n",
              "  <thead>\n",
              "    <tr style=\"text-align: right;\">\n",
              "      <th></th>\n",
              "      <th>Order</th>\n",
              "      <th>File_Type</th>\n",
              "      <th>SKU_number</th>\n",
              "      <th>SoldFlag</th>\n",
              "      <th>SoldCount</th>\n",
              "      <th>MarketingType</th>\n",
              "      <th>ReleaseNumber</th>\n",
              "      <th>New_Release_Flag</th>\n",
              "      <th>StrengthFactor</th>\n",
              "      <th>PriceReg</th>\n",
              "      <th>ReleaseYear</th>\n",
              "      <th>ItemCount</th>\n",
              "      <th>LowUserPrice</th>\n",
              "      <th>LowNetPrice</th>\n",
              "    </tr>\n",
              "  </thead>\n",
              "  <tbody>\n",
              "    <tr>\n",
              "      <th>0</th>\n",
              "      <td>2</td>\n",
              "      <td>Historical</td>\n",
              "      <td>1737127</td>\n",
              "      <td>0.0</td>\n",
              "      <td>0.0</td>\n",
              "      <td>D</td>\n",
              "      <td>15</td>\n",
              "      <td>1</td>\n",
              "      <td>6.827430e+05</td>\n",
              "      <td>44.99</td>\n",
              "      <td>2015</td>\n",
              "      <td>8</td>\n",
              "      <td>28.97</td>\n",
              "      <td>31.84</td>\n",
              "    </tr>\n",
              "    <tr>\n",
              "      <th>1</th>\n",
              "      <td>3</td>\n",
              "      <td>Historical</td>\n",
              "      <td>3255963</td>\n",
              "      <td>0.0</td>\n",
              "      <td>0.0</td>\n",
              "      <td>D</td>\n",
              "      <td>7</td>\n",
              "      <td>1</td>\n",
              "      <td>1.016014e+06</td>\n",
              "      <td>24.81</td>\n",
              "      <td>2005</td>\n",
              "      <td>39</td>\n",
              "      <td>0.00</td>\n",
              "      <td>15.54</td>\n",
              "    </tr>\n",
              "    <tr>\n",
              "      <th>2</th>\n",
              "      <td>4</td>\n",
              "      <td>Historical</td>\n",
              "      <td>612701</td>\n",
              "      <td>0.0</td>\n",
              "      <td>0.0</td>\n",
              "      <td>D</td>\n",
              "      <td>0</td>\n",
              "      <td>0</td>\n",
              "      <td>3.404640e+05</td>\n",
              "      <td>46.00</td>\n",
              "      <td>2013</td>\n",
              "      <td>34</td>\n",
              "      <td>30.19</td>\n",
              "      <td>27.97</td>\n",
              "    </tr>\n",
              "    <tr>\n",
              "      <th>3</th>\n",
              "      <td>6</td>\n",
              "      <td>Historical</td>\n",
              "      <td>115883</td>\n",
              "      <td>1.0</td>\n",
              "      <td>1.0</td>\n",
              "      <td>D</td>\n",
              "      <td>4</td>\n",
              "      <td>1</td>\n",
              "      <td>3.340110e+05</td>\n",
              "      <td>100.00</td>\n",
              "      <td>2006</td>\n",
              "      <td>20</td>\n",
              "      <td>133.93</td>\n",
              "      <td>83.15</td>\n",
              "    </tr>\n",
              "    <tr>\n",
              "      <th>4</th>\n",
              "      <td>7</td>\n",
              "      <td>Historical</td>\n",
              "      <td>863939</td>\n",
              "      <td>1.0</td>\n",
              "      <td>1.0</td>\n",
              "      <td>D</td>\n",
              "      <td>2</td>\n",
              "      <td>1</td>\n",
              "      <td>1.287938e+06</td>\n",
              "      <td>121.95</td>\n",
              "      <td>2010</td>\n",
              "      <td>28</td>\n",
              "      <td>4.00</td>\n",
              "      <td>23.99</td>\n",
              "    </tr>\n",
              "    <tr>\n",
              "      <th>...</th>\n",
              "      <td>...</td>\n",
              "      <td>...</td>\n",
              "      <td>...</td>\n",
              "      <td>...</td>\n",
              "      <td>...</td>\n",
              "      <td>...</td>\n",
              "      <td>...</td>\n",
              "      <td>...</td>\n",
              "      <td>...</td>\n",
              "      <td>...</td>\n",
              "      <td>...</td>\n",
              "      <td>...</td>\n",
              "      <td>...</td>\n",
              "      <td>...</td>\n",
              "    </tr>\n",
              "    <tr>\n",
              "      <th>198912</th>\n",
              "      <td>208023</td>\n",
              "      <td>Active</td>\n",
              "      <td>109683</td>\n",
              "      <td>NaN</td>\n",
              "      <td>NaN</td>\n",
              "      <td>D</td>\n",
              "      <td>7</td>\n",
              "      <td>1</td>\n",
              "      <td>2.101869e+05</td>\n",
              "      <td>72.87</td>\n",
              "      <td>2006</td>\n",
              "      <td>54</td>\n",
              "      <td>8.46</td>\n",
              "      <td>60.59</td>\n",
              "    </tr>\n",
              "    <tr>\n",
              "      <th>198913</th>\n",
              "      <td>208024</td>\n",
              "      <td>Active</td>\n",
              "      <td>416462</td>\n",
              "      <td>NaN</td>\n",
              "      <td>NaN</td>\n",
              "      <td>D</td>\n",
              "      <td>8</td>\n",
              "      <td>1</td>\n",
              "      <td>4.555041e+05</td>\n",
              "      <td>247.00</td>\n",
              "      <td>2009</td>\n",
              "      <td>65</td>\n",
              "      <td>8.40</td>\n",
              "      <td>74.85</td>\n",
              "    </tr>\n",
              "    <tr>\n",
              "      <th>198914</th>\n",
              "      <td>208025</td>\n",
              "      <td>Active</td>\n",
              "      <td>658242</td>\n",
              "      <td>NaN</td>\n",
              "      <td>NaN</td>\n",
              "      <td>S</td>\n",
              "      <td>2</td>\n",
              "      <td>1</td>\n",
              "      <td>1.692746e+05</td>\n",
              "      <td>50.00</td>\n",
              "      <td>2012</td>\n",
              "      <td>23</td>\n",
              "      <td>23.98</td>\n",
              "      <td>32.62</td>\n",
              "    </tr>\n",
              "    <tr>\n",
              "      <th>198915</th>\n",
              "      <td>208026</td>\n",
              "      <td>Active</td>\n",
              "      <td>2538340</td>\n",
              "      <td>NaN</td>\n",
              "      <td>NaN</td>\n",
              "      <td>S</td>\n",
              "      <td>2</td>\n",
              "      <td>1</td>\n",
              "      <td>3.775266e+05</td>\n",
              "      <td>46.95</td>\n",
              "      <td>2001</td>\n",
              "      <td>23</td>\n",
              "      <td>27.42</td>\n",
              "      <td>37.89</td>\n",
              "    </tr>\n",
              "    <tr>\n",
              "      <th>198916</th>\n",
              "      <td>208027</td>\n",
              "      <td>Active</td>\n",
              "      <td>416662</td>\n",
              "      <td>NaN</td>\n",
              "      <td>NaN</td>\n",
              "      <td>D</td>\n",
              "      <td>15</td>\n",
              "      <td>1</td>\n",
              "      <td>1.183068e+05</td>\n",
              "      <td>120.00</td>\n",
              "      <td>2010</td>\n",
              "      <td>44</td>\n",
              "      <td>10.97</td>\n",
              "      <td>60.67</td>\n",
              "    </tr>\n",
              "  </tbody>\n",
              "</table>\n",
              "<p>198917 rows × 14 columns</p>\n",
              "</div>"
            ],
            "text/plain": [
              "         Order   File_Type  SKU_number  ...  ItemCount  LowUserPrice LowNetPrice\n",
              "0            2  Historical     1737127  ...          8         28.97       31.84\n",
              "1            3  Historical     3255963  ...         39          0.00       15.54\n",
              "2            4  Historical      612701  ...         34         30.19       27.97\n",
              "3            6  Historical      115883  ...         20        133.93       83.15\n",
              "4            7  Historical      863939  ...         28          4.00       23.99\n",
              "...        ...         ...         ...  ...        ...           ...         ...\n",
              "198912  208023      Active      109683  ...         54          8.46       60.59\n",
              "198913  208024      Active      416462  ...         65          8.40       74.85\n",
              "198914  208025      Active      658242  ...         23         23.98       32.62\n",
              "198915  208026      Active     2538340  ...         23         27.42       37.89\n",
              "198916  208027      Active      416662  ...         44         10.97       60.67\n",
              "\n",
              "[198917 rows x 14 columns]"
            ]
          },
          "metadata": {
            "tags": []
          },
          "execution_count": 3
        }
      ]
    },
    {
      "cell_type": "code",
      "metadata": {
        "colab": {
          "base_uri": "https://localhost:8080/"
        },
        "id": "NA5HoY6yqTIW",
        "outputId": "bb5288d1-6e31-4269-c536-c211abbab14f"
      },
      "source": [
        "data.info()"
      ],
      "execution_count": 4,
      "outputs": [
        {
          "output_type": "stream",
          "text": [
            "<class 'pandas.core.frame.DataFrame'>\n",
            "RangeIndex: 198917 entries, 0 to 198916\n",
            "Data columns (total 14 columns):\n",
            " #   Column            Non-Null Count   Dtype  \n",
            "---  ------            --------------   -----  \n",
            " 0   Order             198917 non-null  int64  \n",
            " 1   File_Type         198917 non-null  object \n",
            " 2   SKU_number        198917 non-null  int64  \n",
            " 3   SoldFlag          75996 non-null   float64\n",
            " 4   SoldCount         75996 non-null   float64\n",
            " 5   MarketingType     198917 non-null  object \n",
            " 6   ReleaseNumber     198917 non-null  int64  \n",
            " 7   New_Release_Flag  198917 non-null  int64  \n",
            " 8   StrengthFactor    198917 non-null  float64\n",
            " 9   PriceReg          198917 non-null  float64\n",
            " 10  ReleaseYear       198917 non-null  int64  \n",
            " 11  ItemCount         198917 non-null  int64  \n",
            " 12  LowUserPrice      198917 non-null  float64\n",
            " 13  LowNetPrice       198917 non-null  float64\n",
            "dtypes: float64(6), int64(6), object(2)\n",
            "memory usage: 21.2+ MB\n"
          ],
          "name": "stdout"
        }
      ]
    },
    {
      "cell_type": "code",
      "metadata": {
        "colab": {
          "base_uri": "https://localhost:8080/"
        },
        "id": "suasr8Xw3zMC",
        "outputId": "f1917a0e-209e-4443-a2b1-3cab22f0bf2d"
      },
      "source": [
        "data['SoldFlag'].value_counts()"
      ],
      "execution_count": 47,
      "outputs": [
        {
          "output_type": "execute_result",
          "data": {
            "text/plain": [
              "0.0    63000\n",
              "1.0    12996\n",
              "Name: SoldFlag, dtype: int64"
            ]
          },
          "metadata": {
            "tags": []
          },
          "execution_count": 47
        }
      ]
    },
    {
      "cell_type": "markdown",
      "metadata": {
        "id": "tVcji9iivx3h"
      },
      "source": [
        "# Data Preprocessing"
      ]
    },
    {
      "cell_type": "markdown",
      "metadata": {
        "id": "WXvJhPO40mvG"
      },
      "source": [
        "- We will remove all the unique identifiers like Order, SKU_number etc.\n",
        "\n",
        "- We gonna use a tree-based model so no need to scale the data. \n",
        "\n"
      ]
    },
    {
      "cell_type": "code",
      "metadata": {
        "id": "WrPJAUQbqaqV"
      },
      "source": [
        "def data_preparation(df):\n",
        "  df = df.copy()\n",
        "\n",
        "  #only using \"Historical\" records in File_Type column using query() function\n",
        "  df = df.query(\"File_Type == 'Historical'\")\n",
        "\n",
        "  \"\"\"drop unnecessary columns i.e Unique Identifiers and also File_Type as we only have Horizontal records.\n",
        "  Remove SoldCount because it is a function for our target SoldFlag i.e we can't give hint to our model so better\n",
        "  to remove it.\n",
        "  \"\"\"\n",
        "  df = df.drop([\"Order\", \"File_Type\", \"SKU_number\", \"SoldCount\"], axis=1)\n",
        "\n",
        "  #Split the data\n",
        "  X = df.drop(\"SoldFlag\", axis=1)\n",
        "  y = df['SoldFlag']\n",
        "\n",
        "  X_train, X_test, y_train, y_test = train_test_split(X,y, train_size=0.7, shuffle=True, random_state=1)\n",
        "\n",
        "  return X_train, X_test, y_train, y_test"
      ],
      "execution_count": 5,
      "outputs": []
    },
    {
      "cell_type": "code",
      "metadata": {
        "id": "xUmnoH53rfH1"
      },
      "source": [
        " X_train, X_test, y_train, y_test = data_preparation(data)"
      ],
      "execution_count": 6,
      "outputs": []
    },
    {
      "cell_type": "code",
      "metadata": {
        "colab": {
          "base_uri": "https://localhost:8080/"
        },
        "id": "ZFO13J5lr6Xv",
        "outputId": "0b11aa11-ba59-43f4-c995-d72772211333"
      },
      "source": [
        "print(len(X_train))\n",
        "print(len(X_test))\n",
        "print(len(y_train))\n",
        "print(len(y_test))"
      ],
      "execution_count": 7,
      "outputs": [
        {
          "output_type": "stream",
          "text": [
            "53197\n",
            "22799\n",
            "53197\n",
            "22799\n"
          ],
          "name": "stdout"
        }
      ]
    },
    {
      "cell_type": "code",
      "metadata": {
        "colab": {
          "base_uri": "https://localhost:8080/",
          "height": 419
        },
        "id": "31SJcpmjs7NS",
        "outputId": "f942191d-0d27-4477-a8d4-fd32096c82f8"
      },
      "source": [
        "X_train"
      ],
      "execution_count": 8,
      "outputs": [
        {
          "output_type": "execute_result",
          "data": {
            "text/html": [
              "<div>\n",
              "<style scoped>\n",
              "    .dataframe tbody tr th:only-of-type {\n",
              "        vertical-align: middle;\n",
              "    }\n",
              "\n",
              "    .dataframe tbody tr th {\n",
              "        vertical-align: top;\n",
              "    }\n",
              "\n",
              "    .dataframe thead th {\n",
              "        text-align: right;\n",
              "    }\n",
              "</style>\n",
              "<table border=\"1\" class=\"dataframe\">\n",
              "  <thead>\n",
              "    <tr style=\"text-align: right;\">\n",
              "      <th></th>\n",
              "      <th>MarketingType</th>\n",
              "      <th>ReleaseNumber</th>\n",
              "      <th>New_Release_Flag</th>\n",
              "      <th>StrengthFactor</th>\n",
              "      <th>PriceReg</th>\n",
              "      <th>ReleaseYear</th>\n",
              "      <th>ItemCount</th>\n",
              "      <th>LowUserPrice</th>\n",
              "      <th>LowNetPrice</th>\n",
              "    </tr>\n",
              "  </thead>\n",
              "  <tbody>\n",
              "    <tr>\n",
              "      <th>68170</th>\n",
              "      <td>S</td>\n",
              "      <td>8</td>\n",
              "      <td>1</td>\n",
              "      <td>2366193.0</td>\n",
              "      <td>59.20</td>\n",
              "      <td>2002</td>\n",
              "      <td>33</td>\n",
              "      <td>36.46</td>\n",
              "      <td>35.33</td>\n",
              "    </tr>\n",
              "    <tr>\n",
              "      <th>73351</th>\n",
              "      <td>S</td>\n",
              "      <td>4</td>\n",
              "      <td>1</td>\n",
              "      <td>296789.0</td>\n",
              "      <td>30.00</td>\n",
              "      <td>1997</td>\n",
              "      <td>25</td>\n",
              "      <td>0.00</td>\n",
              "      <td>26.52</td>\n",
              "    </tr>\n",
              "    <tr>\n",
              "      <th>11491</th>\n",
              "      <td>D</td>\n",
              "      <td>4</td>\n",
              "      <td>1</td>\n",
              "      <td>468217.0</td>\n",
              "      <td>21.92</td>\n",
              "      <td>2004</td>\n",
              "      <td>116</td>\n",
              "      <td>95.86</td>\n",
              "      <td>18.94</td>\n",
              "    </tr>\n",
              "    <tr>\n",
              "      <th>16183</th>\n",
              "      <td>D</td>\n",
              "      <td>1</td>\n",
              "      <td>0</td>\n",
              "      <td>3568256.0</td>\n",
              "      <td>79.95</td>\n",
              "      <td>1999</td>\n",
              "      <td>21</td>\n",
              "      <td>74.95</td>\n",
              "      <td>44.39</td>\n",
              "    </tr>\n",
              "    <tr>\n",
              "      <th>72068</th>\n",
              "      <td>S</td>\n",
              "      <td>3</td>\n",
              "      <td>1</td>\n",
              "      <td>471953.0</td>\n",
              "      <td>181.95</td>\n",
              "      <td>2003</td>\n",
              "      <td>27</td>\n",
              "      <td>0.00</td>\n",
              "      <td>67.81</td>\n",
              "    </tr>\n",
              "    <tr>\n",
              "      <th>...</th>\n",
              "      <td>...</td>\n",
              "      <td>...</td>\n",
              "      <td>...</td>\n",
              "      <td>...</td>\n",
              "      <td>...</td>\n",
              "      <td>...</td>\n",
              "      <td>...</td>\n",
              "      <td>...</td>\n",
              "      <td>...</td>\n",
              "    </tr>\n",
              "    <tr>\n",
              "      <th>20609</th>\n",
              "      <td>D</td>\n",
              "      <td>8</td>\n",
              "      <td>1</td>\n",
              "      <td>40841.0</td>\n",
              "      <td>103.24</td>\n",
              "      <td>2010</td>\n",
              "      <td>48</td>\n",
              "      <td>99.50</td>\n",
              "      <td>115.55</td>\n",
              "    </tr>\n",
              "    <tr>\n",
              "      <th>21440</th>\n",
              "      <td>D</td>\n",
              "      <td>0</td>\n",
              "      <td>0</td>\n",
              "      <td>1611172.0</td>\n",
              "      <td>86.64</td>\n",
              "      <td>2011</td>\n",
              "      <td>19</td>\n",
              "      <td>55.19</td>\n",
              "      <td>78.38</td>\n",
              "    </tr>\n",
              "    <tr>\n",
              "      <th>73349</th>\n",
              "      <td>S</td>\n",
              "      <td>2</td>\n",
              "      <td>1</td>\n",
              "      <td>1628317.0</td>\n",
              "      <td>69.99</td>\n",
              "      <td>2004</td>\n",
              "      <td>43</td>\n",
              "      <td>4.02</td>\n",
              "      <td>30.43</td>\n",
              "    </tr>\n",
              "    <tr>\n",
              "      <th>50057</th>\n",
              "      <td>S</td>\n",
              "      <td>2</td>\n",
              "      <td>1</td>\n",
              "      <td>1660915.0</td>\n",
              "      <td>44.00</td>\n",
              "      <td>2004</td>\n",
              "      <td>32</td>\n",
              "      <td>34.51</td>\n",
              "      <td>10.12</td>\n",
              "    </tr>\n",
              "    <tr>\n",
              "      <th>5192</th>\n",
              "      <td>D</td>\n",
              "      <td>2</td>\n",
              "      <td>1</td>\n",
              "      <td>1592545.0</td>\n",
              "      <td>6.18</td>\n",
              "      <td>2009</td>\n",
              "      <td>21</td>\n",
              "      <td>62.62</td>\n",
              "      <td>10.98</td>\n",
              "    </tr>\n",
              "  </tbody>\n",
              "</table>\n",
              "<p>53197 rows × 9 columns</p>\n",
              "</div>"
            ],
            "text/plain": [
              "      MarketingType  ReleaseNumber  ...  LowUserPrice  LowNetPrice\n",
              "68170             S              8  ...         36.46        35.33\n",
              "73351             S              4  ...          0.00        26.52\n",
              "11491             D              4  ...         95.86        18.94\n",
              "16183             D              1  ...         74.95        44.39\n",
              "72068             S              3  ...          0.00        67.81\n",
              "...             ...            ...  ...           ...          ...\n",
              "20609             D              8  ...         99.50       115.55\n",
              "21440             D              0  ...         55.19        78.38\n",
              "73349             S              2  ...          4.02        30.43\n",
              "50057             S              2  ...         34.51        10.12\n",
              "5192              D              2  ...         62.62        10.98\n",
              "\n",
              "[53197 rows x 9 columns]"
            ]
          },
          "metadata": {
            "tags": []
          },
          "execution_count": 8
        }
      ]
    },
    {
      "cell_type": "code",
      "metadata": {
        "colab": {
          "base_uri": "https://localhost:8080/"
        },
        "id": "V0BgSVwBs9Hi",
        "outputId": "afb2066b-fd32-46e0-f295-1807759e95ab"
      },
      "source": [
        "y_test"
      ],
      "execution_count": 9,
      "outputs": [
        {
          "output_type": "execute_result",
          "data": {
            "text/plain": [
              "37862    0.0\n",
              "35304    0.0\n",
              "26138    0.0\n",
              "52327    0.0\n",
              "6038     0.0\n",
              "        ... \n",
              "3415     0.0\n",
              "19907    0.0\n",
              "22150    0.0\n",
              "11746    0.0\n",
              "63219    0.0\n",
              "Name: SoldFlag, Length: 22799, dtype: float64"
            ]
          },
          "metadata": {
            "tags": []
          },
          "execution_count": 9
        }
      ]
    },
    {
      "cell_type": "markdown",
      "metadata": {
        "id": "65AlwRAgvsqq"
      },
      "source": [
        "# Build the Pipeline for Model Training"
      ]
    },
    {
      "cell_type": "markdown",
      "metadata": {
        "id": "egX3trze01bI"
      },
      "source": [
        "- One hot encoder for MarketType and ReleaseNumber.\n",
        "\n",
        "- Pipeline for defining the steps"
      ]
    },
    {
      "cell_type": "code",
      "metadata": {
        "id": "50RvArPetE5r"
      },
      "source": [
        "def model_pipeline():\n",
        "    binary_transformer = Pipeline(steps=[\n",
        "        ('onehot', OneHotEncoder(sparse=False, drop='if_binary'))\n",
        "    ])\n",
        "    \n",
        "    nominal_transformer = Pipeline(steps=[\n",
        "        ('onehot', OneHotEncoder(sparse=False, handle_unknown='ignore'))\n",
        "    ])\n",
        "    \n",
        "    preprocessor = ColumnTransformer(transformers=[\n",
        "        ('binary', binary_transformer, ['MarketingType']),\n",
        "        ('nominal', nominal_transformer, ['ReleaseNumber'])\n",
        "    ], remainder='passthrough')\n",
        "    \n",
        "    model = Pipeline(steps=[\n",
        "        ('preprocessor', preprocessor),\n",
        "        ('classifier', RandomForestClassifier(random_state=1))\n",
        "    ])\n",
        "    \n",
        "    return model"
      ],
      "execution_count": 10,
      "outputs": []
    },
    {
      "cell_type": "code",
      "metadata": {
        "colab": {
          "base_uri": "https://localhost:8080/"
        },
        "id": "-JwCYThvvN5C",
        "outputId": "6dc3e395-a6b8-48b5-842d-4d89043b9c10"
      },
      "source": [
        "!pip3 install -U scikit-learn"
      ],
      "execution_count": 11,
      "outputs": [
        {
          "output_type": "stream",
          "text": [
            "Requirement already up-to-date: scikit-learn in /usr/local/lib/python3.7/dist-packages (0.24.1)\n",
            "Requirement already satisfied, skipping upgrade: joblib>=0.11 in /usr/local/lib/python3.7/dist-packages (from scikit-learn) (1.0.1)\n",
            "Requirement already satisfied, skipping upgrade: numpy>=1.13.3 in /usr/local/lib/python3.7/dist-packages (from scikit-learn) (1.19.5)\n",
            "Requirement already satisfied, skipping upgrade: threadpoolctl>=2.0.0 in /usr/local/lib/python3.7/dist-packages (from scikit-learn) (2.1.0)\n",
            "Requirement already satisfied, skipping upgrade: scipy>=0.19.1 in /usr/local/lib/python3.7/dist-packages (from scikit-learn) (1.4.1)\n"
          ],
          "name": "stdout"
        }
      ]
    },
    {
      "cell_type": "code",
      "metadata": {
        "id": "AH2z-J5yukUw"
      },
      "source": [
        "train_model = model_pipeline()\n",
        "clf = train_model.fit(X_train, y_train)"
      ],
      "execution_count": 12,
      "outputs": []
    },
    {
      "cell_type": "markdown",
      "metadata": {
        "id": "0mlE8b6Yvnzm"
      },
      "source": [
        "## Evaluation"
      ]
    },
    {
      "cell_type": "code",
      "metadata": {
        "id": "iaeABQ43u3aL"
      },
      "source": [
        "y_train_pred = clf.predict(X_train)\n",
        "y_test_pred = clf.predict(X_test)"
      ],
      "execution_count": 41,
      "outputs": []
    },
    {
      "cell_type": "code",
      "metadata": {
        "colab": {
          "base_uri": "https://localhost:8080/"
        },
        "id": "63UQtXAl1ZQO",
        "outputId": "201683d3-829b-4c84-f760-53104c35672c"
      },
      "source": [
        "# Evaluation on the train set\n",
        "print(\"Evaluation on training set \\n\")\n",
        "print(\"--------------------------------------\")\n",
        "model_train_f1 = f1_score(y_train, y_train_pred, average='binary')\n",
        "print(\"The f1-score for the training set is: \", np.round(model_train_f1*100), \"%\")\n",
        "print(\"--------------------------------------\")\n",
        "\n",
        "model_train_score = clf.score(X_train, y_train)\n",
        "print(\"Model score on the train set is: \", np.round(model_train_score*100), \"%\")\n",
        "print(\"--------------------------------------\")\n",
        "\n",
        "model_train_mcc = matthews_corrcoef(y_train, y_train_pred)\n",
        "print(\"Model MCC on the test set is: \", np.round(model_train_mcc*100), \"%\")"
      ],
      "execution_count": 46,
      "outputs": [
        {
          "output_type": "stream",
          "text": [
            "Evaluation on training set \n",
            "\n",
            "--------------------------------------\n",
            "The f1-score for the training set is:  100.0 %\n",
            "--------------------------------------\n",
            "Model score on the train set is:  100.0 %\n",
            "--------------------------------------\n",
            "Model MCC on the test set is:  100.0 %\n"
          ],
          "name": "stdout"
        }
      ]
    },
    {
      "cell_type": "code",
      "metadata": {
        "colab": {
          "base_uri": "https://localhost:8080/"
        },
        "id": "ljiaU0842nor",
        "outputId": "7a9b4179-7d1f-4501-9059-2ea93f98f960"
      },
      "source": [
        "# Evaluation on the train set\n",
        "print(\"Evaluation on the test set \\n\")\n",
        "print(\"--------------------------------------\")\n",
        "model_test_f1 = f1_score(y_test, y_test_pred, average='binary')\n",
        "print(\"The f1-score for the test set is: \", np.round(model_test_f1*100), \"%\")\n",
        "print(\"--------------------------------------\")\n",
        "\n",
        "model_test_score = clf.score(X_test, y_test)\n",
        "print(\"Model score on the test set is: \", np.round(model_test_score*100), \"%\")\n",
        "\n",
        "print(\"--------------------------------------\")\n",
        "\n",
        "model_test_mcc = matthews_corrcoef(y_test, y_test_pred)\n",
        "print(\"Model MCC on the test set is: \", np.round(model_test_mcc*100), \"%\")"
      ],
      "execution_count": 45,
      "outputs": [
        {
          "output_type": "stream",
          "text": [
            "Evaluation on the test set \n",
            "\n",
            "--------------------------------------\n",
            "The f1-score for the test set is:  24.0 %\n",
            "--------------------------------------\n",
            "Model score on the test set is:  83.0 %\n",
            "--------------------------------------\n",
            "Model MCC on the test set is:  22.0 %\n"
          ],
          "name": "stdout"
        }
      ]
    },
    {
      "cell_type": "code",
      "metadata": {
        "colab": {
          "base_uri": "https://localhost:8080/",
          "height": 296
        },
        "id": "udNPgaKMwSAd",
        "outputId": "7c7f3fb7-d4a9-418f-d273-71f60f224b36"
      },
      "source": [
        "plot_confusion_matrix(clf, X_test, y_test, labels=clf.classes_)"
      ],
      "execution_count": 20,
      "outputs": [
        {
          "output_type": "execute_result",
          "data": {
            "text/plain": [
              "<sklearn.metrics._plot.confusion_matrix.ConfusionMatrixDisplay at 0x7efc0198a1d0>"
            ]
          },
          "metadata": {
            "tags": []
          },
          "execution_count": 20
        },
        {
          "output_type": "display_data",
          "data": {
            "image/png": "[encoded data removed]",
            "text/plain": [
              "<Figure size 432x288 with 2 Axes>"
            ]
          },
          "metadata": {
            "tags": [],
            "needs_background": "light"
          }
        }
      ]
    },
    {
      "cell_type": "code",
      "metadata": {
        "colab": {
          "base_uri": "https://localhost:8080/"
        },
        "id": "DaaL84iOxnqu",
        "outputId": "f274d7d3-f854-4778-9f65-3a41a7814155"
      },
      "source": [
        "clr = classification_report(y_test, y_pred)\n",
        "print(clr)"
      ],
      "execution_count": 23,
      "outputs": [
        {
          "output_type": "stream",
          "text": [
            "              precision    recall  f1-score   support\n",
            "\n",
            "         0.0       0.85      0.98      0.91     18923\n",
            "         1.0       0.55      0.15      0.24      3876\n",
            "\n",
            "    accuracy                           0.83     22799\n",
            "   macro avg       0.70      0.56      0.57     22799\n",
            "weighted avg       0.80      0.83      0.79     22799\n",
            "\n"
          ],
          "name": "stdout"
        }
      ]
    },
    {
      "cell_type": "markdown",
      "metadata": {
        "id": "MNWbkY_W3_Vk"
      },
      "source": [
        "# Conclusion\n",
        "\n",
        "### We can see that for target value \"0\", the model is doing good but for \"1\", it is failing to predict due to class imbalance.\n",
        "\n",
        "- MCC and f1-score are better to evaluate models when there is a class imbalance in the data.\n",
        "\n",
        "- MCC is one of the best evaluation metric for \"Binary Classification problem\"\n",
        "\n",
        "#### The Matthews correlation coefficient (MCC), instead, is a more reliable statistical rate which produces a high score only if the prediction obtained good results in all of the four confusion matrix categories (true positives, false negatives, true negatives, and false positives), proportionally both to the size of positive elements and the size of negative elements in the dataset.\n",
        "\n",
        "<a href=\"https://ibb.co/HDXNgF1\"><img src=\"https://i.ibb.co/jvHV46B/4-Table2-1.png\" alt=\"4-Table2-1\" border=\"0\"></a>\n",
        "\n",
        "<a href=\"https://imgbb.com/\"><img src=\"https://i.ibb.co/bBtvLG9/download.png\" alt=\"download\" border=\"0\"></a>"
      ]
    }
  ]
}