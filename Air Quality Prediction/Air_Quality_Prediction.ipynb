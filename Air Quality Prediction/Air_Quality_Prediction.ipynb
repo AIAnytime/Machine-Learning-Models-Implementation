{
  "nbformat": 4,
  "nbformat_minor": 0,
  "metadata": {
    "colab": {
      "name": "Air Quality Prediction.ipynb",
      "provenance": []
    },
    "kernelspec": {
      "name": "python3",
      "display_name": "Python 3"
    },
    "language_info": {
      "name": "python"
    }
  },
  "cells": [
    {
      "cell_type": "code",
      "metadata": {
        "colab": {
          "base_uri": "https://localhost:8080/"
        },
        "id": "KcJYp3N6mTrA",
        "outputId": "5075bc7e-0ae5-4356-abfa-7e5e13ff9a3e"
      },
      "source": [
        "!pip install shap"
      ],
      "execution_count": 2,
      "outputs": [
        {
          "output_type": "stream",
          "text": [
            "Collecting shap\n",
            "\u001b[?25l  Downloading https://files.pythonhosted.org/packages/b9/f4/c5b95cddae15be80f8e58b25edceca105aa83c0b8c86a1edad24a6af80d3/shap-0.39.0.tar.gz (356kB)\n",
            "\r\u001b[K     |█                               | 10kB 13.3MB/s eta 0:00:01\r\u001b[K     |█▉                              | 20kB 10.7MB/s eta 0:00:01\r\u001b[K     |██▊                             | 30kB 7.8MB/s eta 0:00:01\r\u001b[K     |███▊                            | 40kB 6.7MB/s eta 0:00:01\r\u001b[K     |████▋                           | 51kB 4.6MB/s eta 0:00:01\r\u001b[K     |█████▌                          | 61kB 5.1MB/s eta 0:00:01\r\u001b[K     |██████▍                         | 71kB 5.2MB/s eta 0:00:01\r\u001b[K     |███████▍                        | 81kB 5.4MB/s eta 0:00:01\r\u001b[K     |████████▎                       | 92kB 5.4MB/s eta 0:00:01\r\u001b[K     |█████████▏                      | 102kB 5.8MB/s eta 0:00:01\r\u001b[K     |██████████▏                     | 112kB 5.8MB/s eta 0:00:01\r\u001b[K     |███████████                     | 122kB 5.8MB/s eta 0:00:01\r\u001b[K     |████████████                    | 133kB 5.8MB/s eta 0:00:01\r\u001b[K     |████████████▉                   | 143kB 5.8MB/s eta 0:00:01\r\u001b[K     |█████████████▉                  | 153kB 5.8MB/s eta 0:00:01\r\u001b[K     |██████████████▊                 | 163kB 5.8MB/s eta 0:00:01\r\u001b[K     |███████████████▋                | 174kB 5.8MB/s eta 0:00:01\r\u001b[K     |████████████████▋               | 184kB 5.8MB/s eta 0:00:01\r\u001b[K     |█████████████████▌              | 194kB 5.8MB/s eta 0:00:01\r\u001b[K     |██████████████████▍             | 204kB 5.8MB/s eta 0:00:01\r\u001b[K     |███████████████████▎            | 215kB 5.8MB/s eta 0:00:01\r\u001b[K     |████████████████████▎           | 225kB 5.8MB/s eta 0:00:01\r\u001b[K     |█████████████████████▏          | 235kB 5.8MB/s eta 0:00:01\r\u001b[K     |██████████████████████          | 245kB 5.8MB/s eta 0:00:01\r\u001b[K     |███████████████████████         | 256kB 5.8MB/s eta 0:00:01\r\u001b[K     |████████████████████████        | 266kB 5.8MB/s eta 0:00:01\r\u001b[K     |████████████████████████▉       | 276kB 5.8MB/s eta 0:00:01\r\u001b[K     |█████████████████████████▊      | 286kB 5.8MB/s eta 0:00:01\r\u001b[K     |██████████████████████████▊     | 296kB 5.8MB/s eta 0:00:01\r\u001b[K     |███████████████████████████▋    | 307kB 5.8MB/s eta 0:00:01\r\u001b[K     |████████████████████████████▌   | 317kB 5.8MB/s eta 0:00:01\r\u001b[K     |█████████████████████████████▍  | 327kB 5.8MB/s eta 0:00:01\r\u001b[K     |██████████████████████████████▍ | 337kB 5.8MB/s eta 0:00:01\r\u001b[K     |███████████████████████████████▎| 348kB 5.8MB/s eta 0:00:01\r\u001b[K     |████████████████████████████████| 358kB 5.8MB/s \n",
            "\u001b[?25hRequirement already satisfied: numpy in /usr/local/lib/python3.7/dist-packages (from shap) (1.19.5)\n",
            "Requirement already satisfied: scipy in /usr/local/lib/python3.7/dist-packages (from shap) (1.4.1)\n",
            "Requirement already satisfied: scikit-learn in /usr/local/lib/python3.7/dist-packages (from shap) (0.22.2.post1)\n",
            "Requirement already satisfied: pandas in /usr/local/lib/python3.7/dist-packages (from shap) (1.1.5)\n",
            "Requirement already satisfied: tqdm>4.25.0 in /usr/local/lib/python3.7/dist-packages (from shap) (4.41.1)\n",
            "Collecting slicer==0.0.7\n",
            "  Downloading https://files.pythonhosted.org/packages/78/c2/b3f55dfdb8af9812fdb9baf70cacf3b9e82e505b2bd4324d588888b81202/slicer-0.0.7-py3-none-any.whl\n",
            "Requirement already satisfied: numba in /usr/local/lib/python3.7/dist-packages (from shap) (0.51.2)\n",
            "Requirement already satisfied: cloudpickle in /usr/local/lib/python3.7/dist-packages (from shap) (1.3.0)\n",
            "Requirement already satisfied: joblib>=0.11 in /usr/local/lib/python3.7/dist-packages (from scikit-learn->shap) (1.0.1)\n",
            "Requirement already satisfied: pytz>=2017.2 in /usr/local/lib/python3.7/dist-packages (from pandas->shap) (2018.9)\n",
            "Requirement already satisfied: python-dateutil>=2.7.3 in /usr/local/lib/python3.7/dist-packages (from pandas->shap) (2.8.1)\n",
            "Requirement already satisfied: llvmlite<0.35,>=0.34.0.dev0 in /usr/local/lib/python3.7/dist-packages (from numba->shap) (0.34.0)\n",
            "Requirement already satisfied: setuptools in /usr/local/lib/python3.7/dist-packages (from numba->shap) (54.2.0)\n",
            "Requirement already satisfied: six>=1.5 in /usr/local/lib/python3.7/dist-packages (from python-dateutil>=2.7.3->pandas->shap) (1.15.0)\n",
            "Building wheels for collected packages: shap\n",
            "  Building wheel for shap (setup.py) ... \u001b[?25l\u001b[?25hdone\n",
            "  Created wheel for shap: filename=shap-0.39.0-cp37-cp37m-linux_x86_64.whl size=491625 sha256=9b58e0725e2694eacdce2387ceb1d8baefb32f824258d2820ed81334b2ec7066\n",
            "  Stored in directory: /root/.cache/pip/wheels/15/27/f5/a8ab9da52fd159aae6477b5ede6eaaec69fd130fa0fa59f283\n",
            "Successfully built shap\n",
            "Installing collected packages: slicer, shap\n",
            "Successfully installed shap-0.39.0 slicer-0.0.7\n"
          ],
          "name": "stdout"
        }
      ]
    },
    {
      "cell_type": "code",
      "metadata": {
        "id": "BgaLkeqPnM9c"
      },
      "source": [
        "import pandas as pd\n",
        "import numpy as np\n",
        "\n",
        "from sklearn.model_selection import train_test_split\n",
        "\n",
        "from sklearn.ensemble import RandomForestClassifier\n",
        "\n",
        "import shap"
      ],
      "execution_count": 3,
      "outputs": []
    },
    {
      "cell_type": "code",
      "metadata": {
        "id": "2k91zg9-nozI"
      },
      "source": [
        "data = pd.read_csv(\"dataset.csv\", names = [\"MQ1\", \"MQ2\", \"MQ3\", \"MQ4\", \"MQ5\", \"MQ6\",\"CO2\"])"
      ],
      "execution_count": 7,
      "outputs": []
    },
    {
      "cell_type": "code",
      "metadata": {
        "colab": {
          "base_uri": "https://localhost:8080/"
        },
        "id": "eoXuVH5YoGlF",
        "outputId": "4440339f-38a1-4bf0-83b4-28c997e09092"
      },
      "source": [
        "data.info()"
      ],
      "execution_count": 8,
      "outputs": [
        {
          "output_type": "stream",
          "text": [
            "<class 'pandas.core.frame.DataFrame'>\n",
            "RangeIndex: 1845 entries, 0 to 1844\n",
            "Data columns (total 7 columns):\n",
            " #   Column  Non-Null Count  Dtype\n",
            "---  ------  --------------  -----\n",
            " 0   MQ1     1845 non-null   int64\n",
            " 1   MQ2     1845 non-null   int64\n",
            " 2   MQ3     1845 non-null   int64\n",
            " 3   MQ4     1845 non-null   int64\n",
            " 4   MQ5     1845 non-null   int64\n",
            " 5   MQ6     1845 non-null   int64\n",
            " 6   CO2     1845 non-null   int64\n",
            "dtypes: int64(7)\n",
            "memory usage: 101.0 KB\n"
          ],
          "name": "stdout"
        }
      ]
    },
    {
      "cell_type": "code",
      "metadata": {
        "colab": {
          "base_uri": "https://localhost:8080/",
          "height": 204
        },
        "id": "hlzeX0qOoInA",
        "outputId": "0fd0ef13-943f-4af6-dec8-01e8cef68627"
      },
      "source": [
        "data.head(5)"
      ],
      "execution_count": 9,
      "outputs": [
        {
          "output_type": "execute_result",
          "data": {
            "text/html": [
              "<div>\n",
              "<style scoped>\n",
              "    .dataframe tbody tr th:only-of-type {\n",
              "        vertical-align: middle;\n",
              "    }\n",
              "\n",
              "    .dataframe tbody tr th {\n",
              "        vertical-align: top;\n",
              "    }\n",
              "\n",
              "    .dataframe thead th {\n",
              "        text-align: right;\n",
              "    }\n",
              "</style>\n",
              "<table border=\"1\" class=\"dataframe\">\n",
              "  <thead>\n",
              "    <tr style=\"text-align: right;\">\n",
              "      <th></th>\n",
              "      <th>MQ1</th>\n",
              "      <th>MQ2</th>\n",
              "      <th>MQ3</th>\n",
              "      <th>MQ4</th>\n",
              "      <th>MQ5</th>\n",
              "      <th>MQ6</th>\n",
              "      <th>CO2</th>\n",
              "    </tr>\n",
              "  </thead>\n",
              "  <tbody>\n",
              "    <tr>\n",
              "      <th>0</th>\n",
              "      <td>670</td>\n",
              "      <td>696</td>\n",
              "      <td>1252</td>\n",
              "      <td>1720</td>\n",
              "      <td>1321</td>\n",
              "      <td>2431</td>\n",
              "      <td>4</td>\n",
              "    </tr>\n",
              "    <tr>\n",
              "      <th>1</th>\n",
              "      <td>641</td>\n",
              "      <td>674</td>\n",
              "      <td>1156</td>\n",
              "      <td>1652</td>\n",
              "      <td>1410</td>\n",
              "      <td>2433</td>\n",
              "      <td>4</td>\n",
              "    </tr>\n",
              "    <tr>\n",
              "      <th>2</th>\n",
              "      <td>642</td>\n",
              "      <td>646</td>\n",
              "      <td>1159</td>\n",
              "      <td>1643</td>\n",
              "      <td>1455</td>\n",
              "      <td>2361</td>\n",
              "      <td>4</td>\n",
              "    </tr>\n",
              "    <tr>\n",
              "      <th>3</th>\n",
              "      <td>640</td>\n",
              "      <td>590</td>\n",
              "      <td>1105</td>\n",
              "      <td>1608</td>\n",
              "      <td>1459</td>\n",
              "      <td>2427</td>\n",
              "      <td>4</td>\n",
              "    </tr>\n",
              "    <tr>\n",
              "      <th>4</th>\n",
              "      <td>616</td>\n",
              "      <td>627</td>\n",
              "      <td>1192</td>\n",
              "      <td>1637</td>\n",
              "      <td>1466</td>\n",
              "      <td>2447</td>\n",
              "      <td>4</td>\n",
              "    </tr>\n",
              "  </tbody>\n",
              "</table>\n",
              "</div>"
            ],
            "text/plain": [
              "   MQ1  MQ2   MQ3   MQ4   MQ5   MQ6  CO2\n",
              "0  670  696  1252  1720  1321  2431    4\n",
              "1  641  674  1156  1652  1410  2433    4\n",
              "2  642  646  1159  1643  1455  2361    4\n",
              "3  640  590  1105  1608  1459  2427    4\n",
              "4  616  627  1192  1637  1466  2447    4"
            ]
          },
          "metadata": {
            "tags": []
          },
          "execution_count": 9
        }
      ]
    },
    {
      "cell_type": "code",
      "metadata": {
        "colab": {
          "base_uri": "https://localhost:8080/"
        },
        "id": "RuZjmWTmp1lc",
        "outputId": "c9d96195-6c42-4904-a546-e34a7592e110"
      },
      "source": [
        "data.shape"
      ],
      "execution_count": 19,
      "outputs": [
        {
          "output_type": "execute_result",
          "data": {
            "text/plain": [
              "(1845, 7)"
            ]
          },
          "metadata": {
            "tags": []
          },
          "execution_count": 19
        }
      ]
    },
    {
      "cell_type": "code",
      "metadata": {
        "colab": {
          "base_uri": "https://localhost:8080/"
        },
        "id": "wHNKQ74AoLFu",
        "outputId": "78d509e4-e88e-4ee2-cc35-dd23ef95fafe"
      },
      "source": [
        "data[\"CO2\"].unique()"
      ],
      "execution_count": 12,
      "outputs": [
        {
          "output_type": "execute_result",
          "data": {
            "text/plain": [
              "array([4, 3, 1, 2])"
            ]
          },
          "metadata": {
            "tags": []
          },
          "execution_count": 12
        }
      ]
    },
    {
      "cell_type": "code",
      "metadata": {
        "colab": {
          "base_uri": "https://localhost:8080/"
        },
        "id": "_8p4_6D8ou35",
        "outputId": "de75b867-9ad7-46c1-d26d-da7085661d06"
      },
      "source": [
        "data[\"CO2\"].value_counts()"
      ],
      "execution_count": 13,
      "outputs": [
        {
          "output_type": "execute_result",
          "data": {
            "text/plain": [
              "1    595\n",
              "4    540\n",
              "2    515\n",
              "3    195\n",
              "Name: CO2, dtype: int64"
            ]
          },
          "metadata": {
            "tags": []
          },
          "execution_count": 13
        }
      ]
    },
    {
      "cell_type": "markdown",
      "metadata": {
        "id": "aavAhb-9o4Vj"
      },
      "source": [
        "# Preprocessing\n",
        "- Only Split the data\n",
        "- No need of scaling the data as we are using Random Forest Classifier as **Tree based models don't require Scaled data**"
      ]
    },
    {
      "cell_type": "code",
      "metadata": {
        "id": "Of3WdjBGo1l5"
      },
      "source": [
        "def preprocess_inputs(df):\n",
        "  df = df.copy()\n",
        "\n",
        "  y = df[\"CO2\"]\n",
        "  X = df.drop(\"CO2\", axis=1)\n",
        "\n",
        "  X_train, X_test, y_train, y_test = train_test_split(X,y, train_size = 0.7, shuffle=True, random_state=30)\n",
        "\n",
        "  return X_train, X_test, y_train, y_test"
      ],
      "execution_count": 16,
      "outputs": []
    },
    {
      "cell_type": "code",
      "metadata": {
        "id": "-yoBG9jYpfFU"
      },
      "source": [
        "X_train, X_test, y_train, y_test = preprocess_inputs(data)"
      ],
      "execution_count": 17,
      "outputs": []
    },
    {
      "cell_type": "code",
      "metadata": {
        "colab": {
          "base_uri": "https://localhost:8080/"
        },
        "id": "JiruJB9Vplrn",
        "outputId": "7d0d1b4c-0520-4026-9b06-436c46399ffa"
      },
      "source": [
        "print(len(X_train))\n",
        "print(len(X_test))\n",
        "print(len(y_train))\n",
        "print(len(y_test))"
      ],
      "execution_count": 18,
      "outputs": [
        {
          "output_type": "stream",
          "text": [
            "1291\n",
            "554\n",
            "1291\n",
            "554\n"
          ],
          "name": "stdout"
        }
      ]
    },
    {
      "cell_type": "code",
      "metadata": {
        "colab": {
          "base_uri": "https://localhost:8080/",
          "height": 419
        },
        "id": "Dop8FbuYpxhg",
        "outputId": "2392645c-2a82-41f7-d584-ddedb667f025"
      },
      "source": [
        "X_train"
      ],
      "execution_count": 20,
      "outputs": [
        {
          "output_type": "execute_result",
          "data": {
            "text/html": [
              "<div>\n",
              "<style scoped>\n",
              "    .dataframe tbody tr th:only-of-type {\n",
              "        vertical-align: middle;\n",
              "    }\n",
              "\n",
              "    .dataframe tbody tr th {\n",
              "        vertical-align: top;\n",
              "    }\n",
              "\n",
              "    .dataframe thead th {\n",
              "        text-align: right;\n",
              "    }\n",
              "</style>\n",
              "<table border=\"1\" class=\"dataframe\">\n",
              "  <thead>\n",
              "    <tr style=\"text-align: right;\">\n",
              "      <th></th>\n",
              "      <th>MQ1</th>\n",
              "      <th>MQ2</th>\n",
              "      <th>MQ3</th>\n",
              "      <th>MQ4</th>\n",
              "      <th>MQ5</th>\n",
              "      <th>MQ6</th>\n",
              "    </tr>\n",
              "  </thead>\n",
              "  <tbody>\n",
              "    <tr>\n",
              "      <th>685</th>\n",
              "      <td>928</td>\n",
              "      <td>946</td>\n",
              "      <td>1573</td>\n",
              "      <td>1744</td>\n",
              "      <td>1782</td>\n",
              "      <td>1949</td>\n",
              "    </tr>\n",
              "    <tr>\n",
              "      <th>84</th>\n",
              "      <td>596</td>\n",
              "      <td>610</td>\n",
              "      <td>1162</td>\n",
              "      <td>1605</td>\n",
              "      <td>1398</td>\n",
              "      <td>2328</td>\n",
              "    </tr>\n",
              "    <tr>\n",
              "      <th>789</th>\n",
              "      <td>539</td>\n",
              "      <td>630</td>\n",
              "      <td>1238</td>\n",
              "      <td>1623</td>\n",
              "      <td>1145</td>\n",
              "      <td>2169</td>\n",
              "    </tr>\n",
              "    <tr>\n",
              "      <th>821</th>\n",
              "      <td>399</td>\n",
              "      <td>501</td>\n",
              "      <td>955</td>\n",
              "      <td>1459</td>\n",
              "      <td>1066</td>\n",
              "      <td>2317</td>\n",
              "    </tr>\n",
              "    <tr>\n",
              "      <th>1065</th>\n",
              "      <td>525</td>\n",
              "      <td>624</td>\n",
              "      <td>1131</td>\n",
              "      <td>1590</td>\n",
              "      <td>1277</td>\n",
              "      <td>2085</td>\n",
              "    </tr>\n",
              "    <tr>\n",
              "      <th>...</th>\n",
              "      <td>...</td>\n",
              "      <td>...</td>\n",
              "      <td>...</td>\n",
              "      <td>...</td>\n",
              "      <td>...</td>\n",
              "      <td>...</td>\n",
              "    </tr>\n",
              "    <tr>\n",
              "      <th>500</th>\n",
              "      <td>554</td>\n",
              "      <td>584</td>\n",
              "      <td>1146</td>\n",
              "      <td>1582</td>\n",
              "      <td>1248</td>\n",
              "      <td>2407</td>\n",
              "    </tr>\n",
              "    <tr>\n",
              "      <th>1837</th>\n",
              "      <td>477</td>\n",
              "      <td>533</td>\n",
              "      <td>1088</td>\n",
              "      <td>1625</td>\n",
              "      <td>958</td>\n",
              "      <td>2126</td>\n",
              "    </tr>\n",
              "    <tr>\n",
              "      <th>941</th>\n",
              "      <td>500</td>\n",
              "      <td>574</td>\n",
              "      <td>1118</td>\n",
              "      <td>1556</td>\n",
              "      <td>1144</td>\n",
              "      <td>2141</td>\n",
              "    </tr>\n",
              "    <tr>\n",
              "      <th>421</th>\n",
              "      <td>820</td>\n",
              "      <td>880</td>\n",
              "      <td>1283</td>\n",
              "      <td>1781</td>\n",
              "      <td>1736</td>\n",
              "      <td>2490</td>\n",
              "    </tr>\n",
              "    <tr>\n",
              "      <th>1829</th>\n",
              "      <td>565</td>\n",
              "      <td>595</td>\n",
              "      <td>1257</td>\n",
              "      <td>1661</td>\n",
              "      <td>1101</td>\n",
              "      <td>2145</td>\n",
              "    </tr>\n",
              "  </tbody>\n",
              "</table>\n",
              "<p>1291 rows × 6 columns</p>\n",
              "</div>"
            ],
            "text/plain": [
              "      MQ1  MQ2   MQ3   MQ4   MQ5   MQ6\n",
              "685   928  946  1573  1744  1782  1949\n",
              "84    596  610  1162  1605  1398  2328\n",
              "789   539  630  1238  1623  1145  2169\n",
              "821   399  501   955  1459  1066  2317\n",
              "1065  525  624  1131  1590  1277  2085\n",
              "...   ...  ...   ...   ...   ...   ...\n",
              "500   554  584  1146  1582  1248  2407\n",
              "1837  477  533  1088  1625   958  2126\n",
              "941   500  574  1118  1556  1144  2141\n",
              "421   820  880  1283  1781  1736  2490\n",
              "1829  565  595  1257  1661  1101  2145\n",
              "\n",
              "[1291 rows x 6 columns]"
            ]
          },
          "metadata": {
            "tags": []
          },
          "execution_count": 20
        }
      ]
    },
    {
      "cell_type": "code",
      "metadata": {
        "colab": {
          "base_uri": "https://localhost:8080/"
        },
        "id": "l5czdTcfp6R3",
        "outputId": "1b9fe4e3-528f-4c1f-a379-b9428da3a261"
      },
      "source": [
        "y_test"
      ],
      "execution_count": 21,
      "outputs": [
        {
          "output_type": "execute_result",
          "data": {
            "text/plain": [
              "1500    1\n",
              "1531    2\n",
              "1422    2\n",
              "1698    1\n",
              "471     1\n",
              "       ..\n",
              "1132    4\n",
              "1095    1\n",
              "1768    1\n",
              "1636    1\n",
              "678     3\n",
              "Name: CO2, Length: 554, dtype: int64"
            ]
          },
          "metadata": {
            "tags": []
          },
          "execution_count": 21
        }
      ]
    },
    {
      "cell_type": "markdown",
      "metadata": {
        "id": "2vvd8EMgqipi"
      },
      "source": [
        "# Training the Model"
      ]
    },
    {
      "cell_type": "code",
      "metadata": {
        "colab": {
          "base_uri": "https://localhost:8080/"
        },
        "id": "KXDf9mEbp71s",
        "outputId": "8ad48b3b-23d5-4138-dfe9-d3b6a6d00202"
      },
      "source": [
        "model = RandomForestClassifier(random_state=1)\n",
        "model.fit(X_train, y_train)"
      ],
      "execution_count": 22,
      "outputs": [
        {
          "output_type": "execute_result",
          "data": {
            "text/plain": [
              "RandomForestClassifier(bootstrap=True, ccp_alpha=0.0, class_weight=None,\n",
              "                       criterion='gini', max_depth=None, max_features='auto',\n",
              "                       max_leaf_nodes=None, max_samples=None,\n",
              "                       min_impurity_decrease=0.0, min_impurity_split=None,\n",
              "                       min_samples_leaf=1, min_samples_split=2,\n",
              "                       min_weight_fraction_leaf=0.0, n_estimators=100,\n",
              "                       n_jobs=None, oob_score=False, random_state=1, verbose=0,\n",
              "                       warm_start=False)"
            ]
          },
          "metadata": {
            "tags": []
          },
          "execution_count": 22
        }
      ]
    },
    {
      "cell_type": "code",
      "metadata": {
        "colab": {
          "base_uri": "https://localhost:8080/"
        },
        "id": "QgsQ06U7qrt1",
        "outputId": "90ce7da5-61a7-4623-e9bd-2740756792cd"
      },
      "source": [
        "accuracy = model.score(X_test, y_test)\n",
        "print(\"Accuracy is: {:.2f}%\".format(accuracy*100))"
      ],
      "execution_count": 24,
      "outputs": [
        {
          "output_type": "stream",
          "text": [
            "Accuracy is: 96.03%\n"
          ],
          "name": "stdout"
        }
      ]
    },
    {
      "cell_type": "markdown",
      "metadata": {
        "id": "jnY4EmIurF_I"
      },
      "source": [
        "#Impact of features using Shap Values"
      ]
    },
    {
      "cell_type": "code",
      "metadata": {
        "colab": {
          "base_uri": "https://localhost:8080/",
          "height": 277
        },
        "id": "Qln-7Z23q-w9",
        "outputId": "af788293-b5be-41da-b341-773793a6d521"
      },
      "source": [
        "explainer = shap.TreeExplainer(model)\n",
        "shap_values = explainer.shap_values(X_test)\n",
        "shap.summary_plot(shap_values, X_test, class_names=model.classes_)"
      ],
      "execution_count": 25,
      "outputs": [
        {
          "output_type": "display_data",
          "data": {
            "image/png": "[encoded data removed]",
            "text/plain": [
              "<Figure size 576x280.8 with 1 Axes>"
            ]
          },
          "metadata": {
            "tags": [],
            "needs_background": "light"
          }
        }
      ]
    },
    {
      "cell_type": "code",
      "metadata": {
        "id": "qWOm6pJir9mq"
      },
      "source": [
        ""
      ],
      "execution_count": null,
      "outputs": []
    }
  ]
}